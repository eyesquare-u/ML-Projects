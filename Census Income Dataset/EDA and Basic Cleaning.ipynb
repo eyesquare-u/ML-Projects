{
 "cells": [
  {
   "cell_type": "code",
   "execution_count": 84,
   "id": "marine-somerset",
   "metadata": {},
   "outputs": [],
   "source": [
    "import pandas as pd\n",
    "import numpy as np\n",
    "import matplotlib.pyplot as plt\n",
    "import seaborn as sns\n",
    "\n",
    "%matplotlib inline\n",
    "import warnings\n",
    "warnings.filterwarnings('ignore')\n",
    "\n",
    "from sklearn.preprocessing import LabelEncoder\n",
    "from sklearn.ensemble import GradientBoostingClassifier\n",
    "\n",
    "from sklearn.metrics import roc_curve, roc_auc_score\n",
    "from sklearn.metrics import classification_report\n",
    "from sklearn.metrics import confusion_matrix\n",
    "from sklearn.model_selection import RandomizedSearchCV"
   ]
  },
  {
   "cell_type": "markdown",
   "id": "bottom-engineering",
   "metadata": {},
   "source": [
    "# Importing Data"
   ]
  },
  {
   "cell_type": "code",
   "execution_count": 2,
   "id": "funded-amendment",
   "metadata": {},
   "outputs": [
    {
     "data": {
      "text/html": [
       "<div>\n",
       "<style scoped>\n",
       "    .dataframe tbody tr th:only-of-type {\n",
       "        vertical-align: middle;\n",
       "    }\n",
       "\n",
       "    .dataframe tbody tr th {\n",
       "        vertical-align: top;\n",
       "    }\n",
       "\n",
       "    .dataframe thead th {\n",
       "        text-align: right;\n",
       "    }\n",
       "</style>\n",
       "<table border=\"1\" class=\"dataframe\">\n",
       "  <thead>\n",
       "    <tr style=\"text-align: right;\">\n",
       "      <th></th>\n",
       "      <th>age</th>\n",
       "      <th>workclass</th>\n",
       "      <th>fnlwgt</th>\n",
       "      <th>education</th>\n",
       "      <th>education_num</th>\n",
       "      <th>marital_status</th>\n",
       "      <th>occupation</th>\n",
       "      <th>relationship</th>\n",
       "      <th>race</th>\n",
       "      <th>sex</th>\n",
       "      <th>capital_gain</th>\n",
       "      <th>capital_loss</th>\n",
       "      <th>hours_per_week</th>\n",
       "      <th>native_country</th>\n",
       "      <th>income</th>\n",
       "    </tr>\n",
       "  </thead>\n",
       "  <tbody>\n",
       "    <tr>\n",
       "      <th>0</th>\n",
       "      <td>39</td>\n",
       "      <td>State-gov</td>\n",
       "      <td>77516</td>\n",
       "      <td>Bachelors</td>\n",
       "      <td>13</td>\n",
       "      <td>Never-married</td>\n",
       "      <td>Adm-clerical</td>\n",
       "      <td>Not-in-family</td>\n",
       "      <td>White</td>\n",
       "      <td>Male</td>\n",
       "      <td>2174</td>\n",
       "      <td>0</td>\n",
       "      <td>40</td>\n",
       "      <td>United-States</td>\n",
       "      <td>&lt;=50K</td>\n",
       "    </tr>\n",
       "    <tr>\n",
       "      <th>1</th>\n",
       "      <td>50</td>\n",
       "      <td>Self-emp-not-inc</td>\n",
       "      <td>83311</td>\n",
       "      <td>Bachelors</td>\n",
       "      <td>13</td>\n",
       "      <td>Married-civ-spouse</td>\n",
       "      <td>Exec-managerial</td>\n",
       "      <td>Husband</td>\n",
       "      <td>White</td>\n",
       "      <td>Male</td>\n",
       "      <td>0</td>\n",
       "      <td>0</td>\n",
       "      <td>13</td>\n",
       "      <td>United-States</td>\n",
       "      <td>&lt;=50K</td>\n",
       "    </tr>\n",
       "    <tr>\n",
       "      <th>2</th>\n",
       "      <td>38</td>\n",
       "      <td>Private</td>\n",
       "      <td>215646</td>\n",
       "      <td>HS-grad</td>\n",
       "      <td>9</td>\n",
       "      <td>Divorced</td>\n",
       "      <td>Handlers-cleaners</td>\n",
       "      <td>Not-in-family</td>\n",
       "      <td>White</td>\n",
       "      <td>Male</td>\n",
       "      <td>0</td>\n",
       "      <td>0</td>\n",
       "      <td>40</td>\n",
       "      <td>United-States</td>\n",
       "      <td>&lt;=50K</td>\n",
       "    </tr>\n",
       "    <tr>\n",
       "      <th>3</th>\n",
       "      <td>53</td>\n",
       "      <td>Private</td>\n",
       "      <td>234721</td>\n",
       "      <td>11th</td>\n",
       "      <td>7</td>\n",
       "      <td>Married-civ-spouse</td>\n",
       "      <td>Handlers-cleaners</td>\n",
       "      <td>Husband</td>\n",
       "      <td>Black</td>\n",
       "      <td>Male</td>\n",
       "      <td>0</td>\n",
       "      <td>0</td>\n",
       "      <td>40</td>\n",
       "      <td>United-States</td>\n",
       "      <td>&lt;=50K</td>\n",
       "    </tr>\n",
       "    <tr>\n",
       "      <th>4</th>\n",
       "      <td>28</td>\n",
       "      <td>Private</td>\n",
       "      <td>338409</td>\n",
       "      <td>Bachelors</td>\n",
       "      <td>13</td>\n",
       "      <td>Married-civ-spouse</td>\n",
       "      <td>Prof-specialty</td>\n",
       "      <td>Wife</td>\n",
       "      <td>Black</td>\n",
       "      <td>Female</td>\n",
       "      <td>0</td>\n",
       "      <td>0</td>\n",
       "      <td>40</td>\n",
       "      <td>Cuba</td>\n",
       "      <td>&lt;=50K</td>\n",
       "    </tr>\n",
       "  </tbody>\n",
       "</table>\n",
       "</div>"
      ],
      "text/plain": [
       "   age         workclass  fnlwgt  education  education_num  \\\n",
       "0   39         State-gov   77516  Bachelors             13   \n",
       "1   50  Self-emp-not-inc   83311  Bachelors             13   \n",
       "2   38           Private  215646    HS-grad              9   \n",
       "3   53           Private  234721       11th              7   \n",
       "4   28           Private  338409  Bachelors             13   \n",
       "\n",
       "       marital_status         occupation   relationship   race     sex  \\\n",
       "0       Never-married       Adm-clerical  Not-in-family  White    Male   \n",
       "1  Married-civ-spouse    Exec-managerial        Husband  White    Male   \n",
       "2            Divorced  Handlers-cleaners  Not-in-family  White    Male   \n",
       "3  Married-civ-spouse  Handlers-cleaners        Husband  Black    Male   \n",
       "4  Married-civ-spouse     Prof-specialty           Wife  Black  Female   \n",
       "\n",
       "   capital_gain  capital_loss  hours_per_week native_country income  \n",
       "0          2174             0              40  United-States  <=50K  \n",
       "1             0             0              13  United-States  <=50K  \n",
       "2             0             0              40  United-States  <=50K  \n",
       "3             0             0              40  United-States  <=50K  \n",
       "4             0             0              40           Cuba  <=50K  "
      ]
     },
     "execution_count": 2,
     "metadata": {},
     "output_type": "execute_result"
    }
   ],
   "source": [
    "col_num = ['age', 'fnlwgt', 'education_num', 'capital_gain', 'capital_loss', 'hours_per_week']\n",
    "col_cat = ['workclass', 'education', 'marital_status', 'occupation', 'relationship', 'race', 'sex', 'native_country', 'income']\n",
    "\n",
    "column_arr = ['age', 'workclass', 'fnlwgt', 'education', 'education_num',\n",
    "           'marital_status', 'occupation', 'relationship', 'race', 'sex',\n",
    "           'capital_gain', 'capital_loss', 'hours_per_week', 'native_country', 'income']\n",
    "\n",
    "data = pd.read_csv('./Census Income/adult.data.csv', names=column_arr, skipinitialspace=True)\n",
    "data.head()"
   ]
  },
  {
   "cell_type": "code",
   "execution_count": 3,
   "id": "adjusted-diesel",
   "metadata": {},
   "outputs": [
    {
     "data": {
      "text/html": [
       "<div>\n",
       "<style scoped>\n",
       "    .dataframe tbody tr th:only-of-type {\n",
       "        vertical-align: middle;\n",
       "    }\n",
       "\n",
       "    .dataframe tbody tr th {\n",
       "        vertical-align: top;\n",
       "    }\n",
       "\n",
       "    .dataframe thead th {\n",
       "        text-align: right;\n",
       "    }\n",
       "</style>\n",
       "<table border=\"1\" class=\"dataframe\">\n",
       "  <thead>\n",
       "    <tr style=\"text-align: right;\">\n",
       "      <th></th>\n",
       "      <th>age</th>\n",
       "      <th>fnlwgt</th>\n",
       "      <th>education_num</th>\n",
       "      <th>capital_gain</th>\n",
       "      <th>capital_loss</th>\n",
       "      <th>hours_per_week</th>\n",
       "    </tr>\n",
       "  </thead>\n",
       "  <tbody>\n",
       "    <tr>\n",
       "      <th>count</th>\n",
       "      <td>32561.000000</td>\n",
       "      <td>3.256100e+04</td>\n",
       "      <td>32561.000000</td>\n",
       "      <td>32561.000000</td>\n",
       "      <td>32561.000000</td>\n",
       "      <td>32561.000000</td>\n",
       "    </tr>\n",
       "    <tr>\n",
       "      <th>mean</th>\n",
       "      <td>38.581647</td>\n",
       "      <td>1.897784e+05</td>\n",
       "      <td>10.080679</td>\n",
       "      <td>1077.648844</td>\n",
       "      <td>87.303830</td>\n",
       "      <td>40.437456</td>\n",
       "    </tr>\n",
       "    <tr>\n",
       "      <th>std</th>\n",
       "      <td>13.640433</td>\n",
       "      <td>1.055500e+05</td>\n",
       "      <td>2.572720</td>\n",
       "      <td>7385.292085</td>\n",
       "      <td>402.960219</td>\n",
       "      <td>12.347429</td>\n",
       "    </tr>\n",
       "    <tr>\n",
       "      <th>min</th>\n",
       "      <td>17.000000</td>\n",
       "      <td>1.228500e+04</td>\n",
       "      <td>1.000000</td>\n",
       "      <td>0.000000</td>\n",
       "      <td>0.000000</td>\n",
       "      <td>1.000000</td>\n",
       "    </tr>\n",
       "    <tr>\n",
       "      <th>25%</th>\n",
       "      <td>28.000000</td>\n",
       "      <td>1.178270e+05</td>\n",
       "      <td>9.000000</td>\n",
       "      <td>0.000000</td>\n",
       "      <td>0.000000</td>\n",
       "      <td>40.000000</td>\n",
       "    </tr>\n",
       "    <tr>\n",
       "      <th>50%</th>\n",
       "      <td>37.000000</td>\n",
       "      <td>1.783560e+05</td>\n",
       "      <td>10.000000</td>\n",
       "      <td>0.000000</td>\n",
       "      <td>0.000000</td>\n",
       "      <td>40.000000</td>\n",
       "    </tr>\n",
       "    <tr>\n",
       "      <th>75%</th>\n",
       "      <td>48.000000</td>\n",
       "      <td>2.370510e+05</td>\n",
       "      <td>12.000000</td>\n",
       "      <td>0.000000</td>\n",
       "      <td>0.000000</td>\n",
       "      <td>45.000000</td>\n",
       "    </tr>\n",
       "    <tr>\n",
       "      <th>max</th>\n",
       "      <td>90.000000</td>\n",
       "      <td>1.484705e+06</td>\n",
       "      <td>16.000000</td>\n",
       "      <td>99999.000000</td>\n",
       "      <td>4356.000000</td>\n",
       "      <td>99.000000</td>\n",
       "    </tr>\n",
       "  </tbody>\n",
       "</table>\n",
       "</div>"
      ],
      "text/plain": [
       "                age        fnlwgt  education_num  capital_gain  capital_loss  \\\n",
       "count  32561.000000  3.256100e+04   32561.000000  32561.000000  32561.000000   \n",
       "mean      38.581647  1.897784e+05      10.080679   1077.648844     87.303830   \n",
       "std       13.640433  1.055500e+05       2.572720   7385.292085    402.960219   \n",
       "min       17.000000  1.228500e+04       1.000000      0.000000      0.000000   \n",
       "25%       28.000000  1.178270e+05       9.000000      0.000000      0.000000   \n",
       "50%       37.000000  1.783560e+05      10.000000      0.000000      0.000000   \n",
       "75%       48.000000  2.370510e+05      12.000000      0.000000      0.000000   \n",
       "max       90.000000  1.484705e+06      16.000000  99999.000000   4356.000000   \n",
       "\n",
       "       hours_per_week  \n",
       "count    32561.000000  \n",
       "mean        40.437456  \n",
       "std         12.347429  \n",
       "min          1.000000  \n",
       "25%         40.000000  \n",
       "50%         40.000000  \n",
       "75%         45.000000  \n",
       "max         99.000000  "
      ]
     },
     "execution_count": 3,
     "metadata": {},
     "output_type": "execute_result"
    }
   ],
   "source": [
    "data.describe()"
   ]
  },
  {
   "cell_type": "code",
   "execution_count": 4,
   "id": "engaged-warrior",
   "metadata": {},
   "outputs": [
    {
     "data": {
      "text/plain": [
       "<=50K    0.75919\n",
       ">50K     0.24081\n",
       "Name: income, dtype: float64"
      ]
     },
     "execution_count": 4,
     "metadata": {},
     "output_type": "execute_result"
    }
   ],
   "source": [
    "data['income'].value_counts(normalize=True) # Data is imbalanced"
   ]
  },
  {
   "cell_type": "code",
   "execution_count": 5,
   "id": "adequate-paintball",
   "metadata": {},
   "outputs": [
    {
     "data": {
      "text/plain": [
       "age               0\n",
       "workclass         0\n",
       "fnlwgt            0\n",
       "education         0\n",
       "education_num     0\n",
       "marital_status    0\n",
       "occupation        0\n",
       "relationship      0\n",
       "race              0\n",
       "sex               0\n",
       "capital_gain      0\n",
       "capital_loss      0\n",
       "hours_per_week    0\n",
       "native_country    0\n",
       "income            0\n",
       "dtype: int64"
      ]
     },
     "execution_count": 5,
     "metadata": {},
     "output_type": "execute_result"
    }
   ],
   "source": [
    "data.isna().sum() # Data has no null values"
   ]
  },
  {
   "cell_type": "code",
   "execution_count": 6,
   "id": "generous-disco",
   "metadata": {},
   "outputs": [],
   "source": [
    "data_num = data[col_num]\n",
    "data_cat = data[col_cat]\n",
    "\n",
    "df_copycat = pd.DataFrame.copy(data_cat, deep=True)"
   ]
  },
  {
   "cell_type": "markdown",
   "id": "embedded-status",
   "metadata": {},
   "source": [
    "# CATEGORICAL COLUMNS"
   ]
  },
  {
   "cell_type": "code",
   "execution_count": 7,
   "id": "blond-british",
   "metadata": {},
   "outputs": [
    {
     "data": {
      "text/html": [
       "<div>\n",
       "<style scoped>\n",
       "    .dataframe tbody tr th:only-of-type {\n",
       "        vertical-align: middle;\n",
       "    }\n",
       "\n",
       "    .dataframe tbody tr th {\n",
       "        vertical-align: top;\n",
       "    }\n",
       "\n",
       "    .dataframe thead th {\n",
       "        text-align: right;\n",
       "    }\n",
       "</style>\n",
       "<table border=\"1\" class=\"dataframe\">\n",
       "  <thead>\n",
       "    <tr style=\"text-align: right;\">\n",
       "      <th></th>\n",
       "      <th>workclass</th>\n",
       "      <th>education</th>\n",
       "      <th>marital_status</th>\n",
       "      <th>occupation</th>\n",
       "      <th>relationship</th>\n",
       "      <th>race</th>\n",
       "      <th>sex</th>\n",
       "      <th>native_country</th>\n",
       "      <th>income</th>\n",
       "    </tr>\n",
       "  </thead>\n",
       "  <tbody>\n",
       "    <tr>\n",
       "      <th>0</th>\n",
       "      <td>State-gov</td>\n",
       "      <td>Bachelors</td>\n",
       "      <td>Never-married</td>\n",
       "      <td>Adm-clerical</td>\n",
       "      <td>Not-in-family</td>\n",
       "      <td>White</td>\n",
       "      <td>Male</td>\n",
       "      <td>United-States</td>\n",
       "      <td>&lt;=50K</td>\n",
       "    </tr>\n",
       "    <tr>\n",
       "      <th>1</th>\n",
       "      <td>Self-emp-not-inc</td>\n",
       "      <td>Bachelors</td>\n",
       "      <td>Married-civ-spouse</td>\n",
       "      <td>Exec-managerial</td>\n",
       "      <td>Husband</td>\n",
       "      <td>White</td>\n",
       "      <td>Male</td>\n",
       "      <td>United-States</td>\n",
       "      <td>&lt;=50K</td>\n",
       "    </tr>\n",
       "    <tr>\n",
       "      <th>2</th>\n",
       "      <td>Private</td>\n",
       "      <td>HS-grad</td>\n",
       "      <td>Divorced</td>\n",
       "      <td>Handlers-cleaners</td>\n",
       "      <td>Not-in-family</td>\n",
       "      <td>White</td>\n",
       "      <td>Male</td>\n",
       "      <td>United-States</td>\n",
       "      <td>&lt;=50K</td>\n",
       "    </tr>\n",
       "  </tbody>\n",
       "</table>\n",
       "</div>"
      ],
      "text/plain": [
       "          workclass  education      marital_status         occupation  \\\n",
       "0         State-gov  Bachelors       Never-married       Adm-clerical   \n",
       "1  Self-emp-not-inc  Bachelors  Married-civ-spouse    Exec-managerial   \n",
       "2           Private    HS-grad            Divorced  Handlers-cleaners   \n",
       "\n",
       "    relationship   race   sex native_country income  \n",
       "0  Not-in-family  White  Male  United-States  <=50K  \n",
       "1        Husband  White  Male  United-States  <=50K  \n",
       "2  Not-in-family  White  Male  United-States  <=50K  "
      ]
     },
     "execution_count": 7,
     "metadata": {},
     "output_type": "execute_result"
    }
   ],
   "source": [
    "drop_col_cat = ['native_country']\n",
    "\n",
    "data_cat.head(3)"
   ]
  },
  {
   "cell_type": "code",
   "execution_count": 8,
   "id": "genuine-investment",
   "metadata": {},
   "outputs": [],
   "source": [
    "#df_copycat['income'] = df_copycat['income'].map({'<=50K': 0, '>50K': 1})\n",
    "\n",
    "le = LabelEncoder()\n",
    "df_copycat['income'] = le.fit_transform(df_copycat['income'])"
   ]
  },
  {
   "cell_type": "code",
   "execution_count": 9,
   "id": "intellectual-scroll",
   "metadata": {},
   "outputs": [
    {
     "data": {
      "text/html": [
       "<div>\n",
       "<style scoped>\n",
       "    .dataframe tbody tr th:only-of-type {\n",
       "        vertical-align: middle;\n",
       "    }\n",
       "\n",
       "    .dataframe tbody tr th {\n",
       "        vertical-align: top;\n",
       "    }\n",
       "\n",
       "    .dataframe thead th {\n",
       "        text-align: right;\n",
       "    }\n",
       "</style>\n",
       "<table border=\"1\" class=\"dataframe\">\n",
       "  <thead>\n",
       "    <tr style=\"text-align: right;\">\n",
       "      <th></th>\n",
       "      <th>workclass</th>\n",
       "      <th>education</th>\n",
       "      <th>marital_status</th>\n",
       "      <th>occupation</th>\n",
       "      <th>relationship</th>\n",
       "      <th>race</th>\n",
       "      <th>sex</th>\n",
       "      <th>native_country</th>\n",
       "      <th>income</th>\n",
       "    </tr>\n",
       "  </thead>\n",
       "  <tbody>\n",
       "    <tr>\n",
       "      <th>21000</th>\n",
       "      <td>Private</td>\n",
       "      <td>Some-college</td>\n",
       "      <td>Married-civ-spouse</td>\n",
       "      <td>Adm-clerical</td>\n",
       "      <td>Husband</td>\n",
       "      <td>White</td>\n",
       "      <td>Male</td>\n",
       "      <td>United-States</td>\n",
       "      <td>0</td>\n",
       "    </tr>\n",
       "    <tr>\n",
       "      <th>11707</th>\n",
       "      <td>Private</td>\n",
       "      <td>Some-college</td>\n",
       "      <td>Married-civ-spouse</td>\n",
       "      <td>Craft-repair</td>\n",
       "      <td>Husband</td>\n",
       "      <td>White</td>\n",
       "      <td>Male</td>\n",
       "      <td>United-States</td>\n",
       "      <td>0</td>\n",
       "    </tr>\n",
       "    <tr>\n",
       "      <th>8812</th>\n",
       "      <td>Private</td>\n",
       "      <td>Assoc-acdm</td>\n",
       "      <td>Never-married</td>\n",
       "      <td>Adm-clerical</td>\n",
       "      <td>Not-in-family</td>\n",
       "      <td>White</td>\n",
       "      <td>Female</td>\n",
       "      <td>United-States</td>\n",
       "      <td>0</td>\n",
       "    </tr>\n",
       "  </tbody>\n",
       "</table>\n",
       "</div>"
      ],
      "text/plain": [
       "      workclass     education      marital_status    occupation  \\\n",
       "21000   Private  Some-college  Married-civ-spouse  Adm-clerical   \n",
       "11707   Private  Some-college  Married-civ-spouse  Craft-repair   \n",
       "8812    Private    Assoc-acdm       Never-married  Adm-clerical   \n",
       "\n",
       "        relationship   race     sex native_country  income  \n",
       "21000        Husband  White    Male  United-States       0  \n",
       "11707        Husband  White    Male  United-States       0  \n",
       "8812   Not-in-family  White  Female  United-States       0  "
      ]
     },
     "execution_count": 9,
     "metadata": {},
     "output_type": "execute_result"
    }
   ],
   "source": [
    "df_copycat.sample(3)"
   ]
  },
  {
   "cell_type": "code",
   "execution_count": 10,
   "id": "catholic-calvin",
   "metadata": {},
   "outputs": [
    {
     "data": {
      "text/html": [
       "<div>\n",
       "<style scoped>\n",
       "    .dataframe tbody tr th:only-of-type {\n",
       "        vertical-align: middle;\n",
       "    }\n",
       "\n",
       "    .dataframe tbody tr th {\n",
       "        vertical-align: top;\n",
       "    }\n",
       "\n",
       "    .dataframe thead th {\n",
       "        text-align: right;\n",
       "    }\n",
       "</style>\n",
       "<table border=\"1\" class=\"dataframe\">\n",
       "  <thead>\n",
       "    <tr style=\"text-align: right;\">\n",
       "      <th></th>\n",
       "      <th>workclass</th>\n",
       "      <th>education</th>\n",
       "      <th>marital_status</th>\n",
       "      <th>occupation</th>\n",
       "      <th>relationship</th>\n",
       "      <th>race</th>\n",
       "      <th>sex</th>\n",
       "      <th>native_country</th>\n",
       "      <th>income</th>\n",
       "    </tr>\n",
       "  </thead>\n",
       "  <tbody>\n",
       "    <tr>\n",
       "      <th>5109</th>\n",
       "      <td>Private</td>\n",
       "      <td>Bachelors</td>\n",
       "      <td>Married-spouse-absent</td>\n",
       "      <td>Other-service</td>\n",
       "      <td>Not-in-family</td>\n",
       "      <td>White</td>\n",
       "      <td>Male</td>\n",
       "      <td>United-States</td>\n",
       "      <td>&lt;=50K</td>\n",
       "    </tr>\n",
       "    <tr>\n",
       "      <th>31088</th>\n",
       "      <td>Private</td>\n",
       "      <td>1st-4th</td>\n",
       "      <td>Never-married</td>\n",
       "      <td>Farming-fishing</td>\n",
       "      <td>Not-in-family</td>\n",
       "      <td>White</td>\n",
       "      <td>Male</td>\n",
       "      <td>Mexico</td>\n",
       "      <td>&lt;=50K</td>\n",
       "    </tr>\n",
       "    <tr>\n",
       "      <th>17814</th>\n",
       "      <td>Private</td>\n",
       "      <td>HS-grad</td>\n",
       "      <td>Divorced</td>\n",
       "      <td>Machine-op-inspct</td>\n",
       "      <td>Other-relative</td>\n",
       "      <td>White</td>\n",
       "      <td>Female</td>\n",
       "      <td>United-States</td>\n",
       "      <td>&lt;=50K</td>\n",
       "    </tr>\n",
       "  </tbody>\n",
       "</table>\n",
       "</div>"
      ],
      "text/plain": [
       "      workclass  education         marital_status         occupation  \\\n",
       "5109    Private  Bachelors  Married-spouse-absent      Other-service   \n",
       "31088   Private    1st-4th          Never-married    Farming-fishing   \n",
       "17814   Private    HS-grad               Divorced  Machine-op-inspct   \n",
       "\n",
       "         relationship   race     sex native_country income  \n",
       "5109    Not-in-family  White    Male  United-States  <=50K  \n",
       "31088   Not-in-family  White    Male         Mexico  <=50K  \n",
       "17814  Other-relative  White  Female  United-States  <=50K  "
      ]
     },
     "execution_count": 10,
     "metadata": {},
     "output_type": "execute_result"
    }
   ],
   "source": [
    "data_cat.sample(3)"
   ]
  },
  {
   "cell_type": "markdown",
   "id": "excellent-lobby",
   "metadata": {},
   "source": [
    "## Exploring workclass"
   ]
  },
  {
   "cell_type": "code",
   "execution_count": 11,
   "id": "heated-point",
   "metadata": {},
   "outputs": [
    {
     "data": {
      "text/plain": [
       "Private             69.703019\n",
       "Self-emp-not-inc     7.803814\n",
       "Local-gov            6.427935\n",
       "?                    5.638647\n",
       "State-gov            3.986364\n",
       "Self-emp-inc         3.427413\n",
       "Federal-gov          2.948312\n",
       "Without-pay          0.042996\n",
       "Never-worked         0.021498\n",
       "Name: workclass, dtype: float64"
      ]
     },
     "execution_count": 11,
     "metadata": {},
     "output_type": "execute_result"
    }
   ],
   "source": [
    "data_cat['workclass'].value_counts(normalize=True)*100"
   ]
  },
  {
   "cell_type": "code",
   "execution_count": 12,
   "id": "golden-daughter",
   "metadata": {},
   "outputs": [
    {
     "data": {
      "text/plain": [
       "<AxesSubplot:xlabel='count', ylabel='workclass'>"
      ]
     },
     "execution_count": 12,
     "metadata": {},
     "output_type": "execute_result"
    },
    {
     "data": {
      "image/png": "[encoded data removed]",
      "text/plain": [
       "<Figure size 720x360 with 1 Axes>"
      ]
     },
     "metadata": {},
     "output_type": "display_data"
    }
   ],
   "source": [
    "sns.set_style(style='darkgrid')\n",
    "\n",
    "plt.figure(figsize=(10,5))\n",
    "sns.countplot(y='workclass', data=data_cat)"
   ]
  },
  {
   "cell_type": "code",
   "execution_count": 13,
   "id": "resident-glass",
   "metadata": {},
   "outputs": [
    {
     "data": {
      "text/plain": [
       "<AxesSubplot:xlabel='income', ylabel='count'>"
      ]
     },
     "execution_count": 13,
     "metadata": {},
     "output_type": "execute_result"
    },
    {
     "data": {
      "image/png": "[encoded data removed]",
      "text/plain": [
       "<Figure size 864x360 with 1 Axes>"
      ]
     },
     "metadata": {},
     "output_type": "display_data"
    }
   ],
   "source": [
    "plt.figure(figsize=(12,5))\n",
    "sns.countplot(x='income', hue='workclass', data=data_cat)"
   ]
  },
  {
   "cell_type": "markdown",
   "id": "proud-colon",
   "metadata": {},
   "source": [
    "### Modifying the column"
   ]
  },
  {
   "cell_type": "code",
   "execution_count": 14,
   "id": "seasonal-logging",
   "metadata": {},
   "outputs": [
    {
     "data": {
      "text/plain": [
       "Private             69.703019\n",
       "Self-emp-not-inc     7.803814\n",
       "Local-gov            6.427935\n",
       "?                    5.638647\n",
       "State-gov            3.986364\n",
       "Self-emp-inc         3.427413\n",
       "Federal-gov          2.948312\n",
       "NP_NW                0.064494\n",
       "Name: workclass, dtype: float64"
      ]
     },
     "execution_count": 14,
     "metadata": {},
     "output_type": "execute_result"
    }
   ],
   "source": [
    "workclass_dict = {'Without-pay': 'NP_NW', 'Never-worked': 'NP_NW'}\n",
    "\n",
    "df_copycat['workclass'] = df_copycat['workclass'].apply(lambda x: workclass_dict[x] if x in workclass_dict else x)\n",
    "df_copycat['workclass'].value_counts(normalize=True)*100"
   ]
  },
  {
   "cell_type": "code",
   "execution_count": 15,
   "id": "sealed-failure",
   "metadata": {},
   "outputs": [
    {
     "data": {
      "text/plain": [
       "<AxesSubplot:xlabel='income', ylabel='count'>"
      ]
     },
     "execution_count": 15,
     "metadata": {},
     "output_type": "execute_result"
    },
    {
     "data": {
      "image/png": "[encoded data removed]",
      "text/plain": [
       "<Figure size 864x360 with 1 Axes>"
      ]
     },
     "metadata": {},
     "output_type": "display_data"
    }
   ],
   "source": [
    "plt.figure(figsize=(12,5))\n",
    "sns.countplot(x='income', hue='workclass', data=df_copycat)"
   ]
  },
  {
   "cell_type": "markdown",
   "id": "initial-algeria",
   "metadata": {},
   "source": [
    "## Exploring education col"
   ]
  },
  {
   "cell_type": "code",
   "execution_count": 16,
   "id": "normal-hollywood",
   "metadata": {},
   "outputs": [
    {
     "data": {
      "text/plain": [
       "HS-grad         32.250238\n",
       "Some-college    22.391818\n",
       "Bachelors       16.446055\n",
       "Masters          5.291607\n",
       "Assoc-voc        4.244341\n",
       "11th             3.608612\n",
       "Assoc-acdm       3.276926\n",
       "10th             2.865391\n",
       "7th-8th          1.983969\n",
       "Prof-school      1.768987\n",
       "9th              1.578576\n",
       "12th             1.329812\n",
       "Doctorate        1.268389\n",
       "5th-6th          1.022696\n",
       "1st-4th          0.515955\n",
       "Preschool        0.156629\n",
       "Name: education, dtype: float64"
      ]
     },
     "execution_count": 16,
     "metadata": {},
     "output_type": "execute_result"
    }
   ],
   "source": [
    "data_cat['education'].value_counts(normalize=True)*100"
   ]
  },
  {
   "cell_type": "code",
   "execution_count": 17,
   "id": "metropolitan-basic",
   "metadata": {},
   "outputs": [
    {
     "data": {
      "text/plain": [
       "<AxesSubplot:xlabel='count', ylabel='education'>"
      ]
     },
     "execution_count": 17,
     "metadata": {},
     "output_type": "execute_result"
    },
    {
     "data": {
      "image/png": "[encoded data removed]",
      "text/plain": [
       "<Figure size 720x360 with 1 Axes>"
      ]
     },
     "metadata": {},
     "output_type": "display_data"
    }
   ],
   "source": [
    "plt.figure(figsize=(10,5))\n",
    "sns.countplot(y='education', data=data_cat)"
   ]
  },
  {
   "cell_type": "code",
   "execution_count": 18,
   "id": "corresponding-alabama",
   "metadata": {},
   "outputs": [
    {
     "data": {
      "text/plain": [
       "<AxesSubplot:xlabel='income', ylabel='count'>"
      ]
     },
     "execution_count": 18,
     "metadata": {},
     "output_type": "execute_result"
    },
    {
     "data": {
      "image/png": "[encoded data removed]",
      "text/plain": [
       "<Figure size 864x360 with 1 Axes>"
      ]
     },
     "metadata": {},
     "output_type": "display_data"
    }
   ],
   "source": [
    "plt.figure(figsize=(12,5))\n",
    "sns.countplot(x='income', hue='education', data=data_cat)"
   ]
  },
  {
   "cell_type": "markdown",
   "id": "alternative-webcam",
   "metadata": {},
   "source": [
    "### Modifying the column"
   ]
  },
  {
   "cell_type": "code",
   "execution_count": 19,
   "id": "distant-basics",
   "metadata": {},
   "outputs": [
    {
     "data": {
      "text/plain": [
       "HS-grad         32.250238\n",
       "Some-college    22.391818\n",
       "Bachelors       16.446055\n",
       "Below_HS        13.061638\n",
       "Masters          5.291607\n",
       "Assoc-voc        4.244341\n",
       "Assoc-acdm       3.276926\n",
       "Prof-school      1.768987\n",
       "Doctorate        1.268389\n",
       "Name: education, dtype: float64"
      ]
     },
     "execution_count": 19,
     "metadata": {},
     "output_type": "execute_result"
    }
   ],
   "source": [
    "education_dict = {'11th': 'Below_HS', '9th': 'Below_HS', '7th-8th': 'Below_HS', '5th-6th': 'Below_HS', \n",
    "                  '10th': 'Below_HS', '1st-4th': 'Below_HS', 'Preschool': 'Below_HS', '12th': 'Below_HS'}\n",
    "\n",
    "df_copycat['education'] = df_copycat['education'].apply(lambda x: education_dict[x] if x in education_dict else x)\n",
    "df_copycat['education'].value_counts(normalize=True)*100"
   ]
  },
  {
   "cell_type": "code",
   "execution_count": 20,
   "id": "selected-jonathan",
   "metadata": {},
   "outputs": [
    {
     "data": {
      "text/plain": [
       "<AxesSubplot:xlabel='count', ylabel='education'>"
      ]
     },
     "execution_count": 20,
     "metadata": {},
     "output_type": "execute_result"
    },
    {
     "data": {
      "image/png": "[encoded data removed]",
      "text/plain": [
       "<Figure size 720x360 with 1 Axes>"
      ]
     },
     "metadata": {},
     "output_type": "display_data"
    }
   ],
   "source": [
    "plt.figure(figsize=(10,5))\n",
    "sns.countplot(y='education', data=df_copycat)"
   ]
  },
  {
   "cell_type": "code",
   "execution_count": 21,
   "id": "ordinary-awareness",
   "metadata": {},
   "outputs": [
    {
     "data": {
      "text/plain": [
       "<AxesSubplot:xlabel='income', ylabel='count'>"
      ]
     },
     "execution_count": 21,
     "metadata": {},
     "output_type": "execute_result"
    },
    {
     "data": {
      "image/png": "[encoded data removed]",
      "text/plain": [
       "<Figure size 864x360 with 1 Axes>"
      ]
     },
     "metadata": {},
     "output_type": "display_data"
    }
   ],
   "source": [
    "plt.figure(figsize=(12,5))\n",
    "sns.countplot(x='income', hue='education', data=df_copycat)"
   ]
  },
  {
   "cell_type": "code",
   "execution_count": 22,
   "id": "colored-triple",
   "metadata": {},
   "outputs": [
    {
     "data": {
      "text/html": [
       "<div>\n",
       "<style scoped>\n",
       "    .dataframe tbody tr th:only-of-type {\n",
       "        vertical-align: middle;\n",
       "    }\n",
       "\n",
       "    .dataframe tbody tr th {\n",
       "        vertical-align: top;\n",
       "    }\n",
       "\n",
       "    .dataframe thead th {\n",
       "        text-align: right;\n",
       "    }\n",
       "</style>\n",
       "<table border=\"1\" class=\"dataframe\">\n",
       "  <thead>\n",
       "    <tr style=\"text-align: right;\">\n",
       "      <th></th>\n",
       "      <th>workclass</th>\n",
       "      <th>education</th>\n",
       "      <th>marital_status</th>\n",
       "      <th>occupation</th>\n",
       "      <th>relationship</th>\n",
       "      <th>race</th>\n",
       "      <th>sex</th>\n",
       "      <th>native_country</th>\n",
       "      <th>income</th>\n",
       "    </tr>\n",
       "  </thead>\n",
       "  <tbody>\n",
       "    <tr>\n",
       "      <th>0</th>\n",
       "      <td>State-gov</td>\n",
       "      <td>Bachelors</td>\n",
       "      <td>Never-married</td>\n",
       "      <td>Adm-clerical</td>\n",
       "      <td>Not-in-family</td>\n",
       "      <td>White</td>\n",
       "      <td>Male</td>\n",
       "      <td>United-States</td>\n",
       "      <td>&lt;=50K</td>\n",
       "    </tr>\n",
       "    <tr>\n",
       "      <th>1</th>\n",
       "      <td>Self-emp-not-inc</td>\n",
       "      <td>Bachelors</td>\n",
       "      <td>Married-civ-spouse</td>\n",
       "      <td>Exec-managerial</td>\n",
       "      <td>Husband</td>\n",
       "      <td>White</td>\n",
       "      <td>Male</td>\n",
       "      <td>United-States</td>\n",
       "      <td>&lt;=50K</td>\n",
       "    </tr>\n",
       "    <tr>\n",
       "      <th>2</th>\n",
       "      <td>Private</td>\n",
       "      <td>HS-grad</td>\n",
       "      <td>Divorced</td>\n",
       "      <td>Handlers-cleaners</td>\n",
       "      <td>Not-in-family</td>\n",
       "      <td>White</td>\n",
       "      <td>Male</td>\n",
       "      <td>United-States</td>\n",
       "      <td>&lt;=50K</td>\n",
       "    </tr>\n",
       "    <tr>\n",
       "      <th>3</th>\n",
       "      <td>Private</td>\n",
       "      <td>11th</td>\n",
       "      <td>Married-civ-spouse</td>\n",
       "      <td>Handlers-cleaners</td>\n",
       "      <td>Husband</td>\n",
       "      <td>Black</td>\n",
       "      <td>Male</td>\n",
       "      <td>United-States</td>\n",
       "      <td>&lt;=50K</td>\n",
       "    </tr>\n",
       "    <tr>\n",
       "      <th>4</th>\n",
       "      <td>Private</td>\n",
       "      <td>Bachelors</td>\n",
       "      <td>Married-civ-spouse</td>\n",
       "      <td>Prof-specialty</td>\n",
       "      <td>Wife</td>\n",
       "      <td>Black</td>\n",
       "      <td>Female</td>\n",
       "      <td>Cuba</td>\n",
       "      <td>&lt;=50K</td>\n",
       "    </tr>\n",
       "    <tr>\n",
       "      <th>...</th>\n",
       "      <td>...</td>\n",
       "      <td>...</td>\n",
       "      <td>...</td>\n",
       "      <td>...</td>\n",
       "      <td>...</td>\n",
       "      <td>...</td>\n",
       "      <td>...</td>\n",
       "      <td>...</td>\n",
       "      <td>...</td>\n",
       "    </tr>\n",
       "    <tr>\n",
       "      <th>32556</th>\n",
       "      <td>Private</td>\n",
       "      <td>Assoc-acdm</td>\n",
       "      <td>Married-civ-spouse</td>\n",
       "      <td>Tech-support</td>\n",
       "      <td>Wife</td>\n",
       "      <td>White</td>\n",
       "      <td>Female</td>\n",
       "      <td>United-States</td>\n",
       "      <td>&lt;=50K</td>\n",
       "    </tr>\n",
       "    <tr>\n",
       "      <th>32557</th>\n",
       "      <td>Private</td>\n",
       "      <td>HS-grad</td>\n",
       "      <td>Married-civ-spouse</td>\n",
       "      <td>Machine-op-inspct</td>\n",
       "      <td>Husband</td>\n",
       "      <td>White</td>\n",
       "      <td>Male</td>\n",
       "      <td>United-States</td>\n",
       "      <td>&gt;50K</td>\n",
       "    </tr>\n",
       "    <tr>\n",
       "      <th>32558</th>\n",
       "      <td>Private</td>\n",
       "      <td>HS-grad</td>\n",
       "      <td>Widowed</td>\n",
       "      <td>Adm-clerical</td>\n",
       "      <td>Unmarried</td>\n",
       "      <td>White</td>\n",
       "      <td>Female</td>\n",
       "      <td>United-States</td>\n",
       "      <td>&lt;=50K</td>\n",
       "    </tr>\n",
       "    <tr>\n",
       "      <th>32559</th>\n",
       "      <td>Private</td>\n",
       "      <td>HS-grad</td>\n",
       "      <td>Never-married</td>\n",
       "      <td>Adm-clerical</td>\n",
       "      <td>Own-child</td>\n",
       "      <td>White</td>\n",
       "      <td>Male</td>\n",
       "      <td>United-States</td>\n",
       "      <td>&lt;=50K</td>\n",
       "    </tr>\n",
       "    <tr>\n",
       "      <th>32560</th>\n",
       "      <td>Self-emp-inc</td>\n",
       "      <td>HS-grad</td>\n",
       "      <td>Married-civ-spouse</td>\n",
       "      <td>Exec-managerial</td>\n",
       "      <td>Wife</td>\n",
       "      <td>White</td>\n",
       "      <td>Female</td>\n",
       "      <td>United-States</td>\n",
       "      <td>&gt;50K</td>\n",
       "    </tr>\n",
       "  </tbody>\n",
       "</table>\n",
       "<p>32561 rows × 9 columns</p>\n",
       "</div>"
      ],
      "text/plain": [
       "              workclass   education      marital_status         occupation  \\\n",
       "0             State-gov   Bachelors       Never-married       Adm-clerical   \n",
       "1      Self-emp-not-inc   Bachelors  Married-civ-spouse    Exec-managerial   \n",
       "2               Private     HS-grad            Divorced  Handlers-cleaners   \n",
       "3               Private        11th  Married-civ-spouse  Handlers-cleaners   \n",
       "4               Private   Bachelors  Married-civ-spouse     Prof-specialty   \n",
       "...                 ...         ...                 ...                ...   \n",
       "32556           Private  Assoc-acdm  Married-civ-spouse       Tech-support   \n",
       "32557           Private     HS-grad  Married-civ-spouse  Machine-op-inspct   \n",
       "32558           Private     HS-grad             Widowed       Adm-clerical   \n",
       "32559           Private     HS-grad       Never-married       Adm-clerical   \n",
       "32560      Self-emp-inc     HS-grad  Married-civ-spouse    Exec-managerial   \n",
       "\n",
       "        relationship   race     sex native_country income  \n",
       "0      Not-in-family  White    Male  United-States  <=50K  \n",
       "1            Husband  White    Male  United-States  <=50K  \n",
       "2      Not-in-family  White    Male  United-States  <=50K  \n",
       "3            Husband  Black    Male  United-States  <=50K  \n",
       "4               Wife  Black  Female           Cuba  <=50K  \n",
       "...              ...    ...     ...            ...    ...  \n",
       "32556           Wife  White  Female  United-States  <=50K  \n",
       "32557        Husband  White    Male  United-States   >50K  \n",
       "32558      Unmarried  White  Female  United-States  <=50K  \n",
       "32559      Own-child  White    Male  United-States  <=50K  \n",
       "32560           Wife  White  Female  United-States   >50K  \n",
       "\n",
       "[32561 rows x 9 columns]"
      ]
     },
     "execution_count": 22,
     "metadata": {},
     "output_type": "execute_result"
    }
   ],
   "source": [
    "data_cat"
   ]
  },
  {
   "cell_type": "markdown",
   "id": "naked-dealer",
   "metadata": {},
   "source": [
    "## Exploring marital_status"
   ]
  },
  {
   "cell_type": "code",
   "execution_count": 23,
   "id": "neural-conference",
   "metadata": {},
   "outputs": [
    {
     "data": {
      "text/plain": [
       "Married-civ-spouse       0.459937\n",
       "Never-married            0.328092\n",
       "Divorced                 0.136452\n",
       "Separated                0.031479\n",
       "Widowed                  0.030497\n",
       "Married-spouse-absent    0.012837\n",
       "Married-AF-spouse        0.000706\n",
       "Name: marital_status, dtype: float64"
      ]
     },
     "execution_count": 23,
     "metadata": {},
     "output_type": "execute_result"
    }
   ],
   "source": [
    "data_cat['marital_status'].value_counts(normalize=True)"
   ]
  },
  {
   "cell_type": "code",
   "execution_count": 24,
   "id": "musical-stack",
   "metadata": {},
   "outputs": [
    {
     "data": {
      "text/plain": [
       "<AxesSubplot:xlabel='count', ylabel='marital_status'>"
      ]
     },
     "execution_count": 24,
     "metadata": {},
     "output_type": "execute_result"
    },
    {
     "data": {
      "image/png": "[encoded data removed]",
      "text/plain": [
       "<Figure size 432x288 with 1 Axes>"
      ]
     },
     "metadata": {},
     "output_type": "display_data"
    }
   ],
   "source": [
    "sns.countplot(y='marital_status', data=data_cat)"
   ]
  },
  {
   "cell_type": "code",
   "execution_count": 25,
   "id": "timely-break",
   "metadata": {},
   "outputs": [
    {
     "data": {
      "text/plain": [
       "<AxesSubplot:xlabel='income', ylabel='count'>"
      ]
     },
     "execution_count": 25,
     "metadata": {},
     "output_type": "execute_result"
    },
    {
     "data": {
      "image/png": "[encoded data removed]",
      "text/plain": [
       "<Figure size 720x720 with 1 Axes>"
      ]
     },
     "metadata": {},
     "output_type": "display_data"
    }
   ],
   "source": [
    "plt.figure(figsize=(10,10))\n",
    "sns.countplot(x='income', hue='marital_status', data=data_cat)"
   ]
  },
  {
   "cell_type": "markdown",
   "id": "younger-looking",
   "metadata": {},
   "source": [
    "### Modifying the column"
   ]
  },
  {
   "cell_type": "code",
   "execution_count": 26,
   "id": "senior-ready",
   "metadata": {},
   "outputs": [
    {
     "data": {
      "text/plain": [
       "Married-civ-spouse    14976\n",
       "Never-married         10683\n",
       "DSW                    6461\n",
       "MSA_AF                  441\n",
       "Name: marital_status, dtype: int64"
      ]
     },
     "execution_count": 26,
     "metadata": {},
     "output_type": "execute_result"
    }
   ],
   "source": [
    "marital_status_dict = {'Divorced': 'DSW', 'Separated': 'DSW', 'Widowed': 'DSW', 'Married-spouse-absent': 'MSA_AF', 'Married-AF-spouse': 'MSA_AF'}\n",
    "df_copycat['marital_status'] = df_copycat['marital_status'].apply(lambda x: marital_status_dict[x] if x in marital_status_dict else x)\n",
    "df_copycat['marital_status'].value_counts()"
   ]
  },
  {
   "cell_type": "markdown",
   "id": "distinguished-delicious",
   "metadata": {},
   "source": [
    "## Exploring occupation col"
   ]
  },
  {
   "cell_type": "code",
   "execution_count": 27,
   "id": "stuck-compiler",
   "metadata": {
    "scrolled": true
   },
   "outputs": [
    {
     "data": {
      "text/plain": [
       "Prof-specialty       0.127146\n",
       "Craft-repair         0.125887\n",
       "Exec-managerial      0.124873\n",
       "Adm-clerical         0.115783\n",
       "Sales                0.112097\n",
       "Other-service        0.101195\n",
       "Machine-op-inspct    0.061485\n",
       "?                    0.056601\n",
       "Transport-moving     0.049046\n",
       "Handlers-cleaners    0.042075\n",
       "Farming-fishing      0.030527\n",
       "Tech-support         0.028500\n",
       "Protective-serv      0.019932\n",
       "Priv-house-serv      0.004576\n",
       "Armed-Forces         0.000276\n",
       "Name: occupation, dtype: float64"
      ]
     },
     "execution_count": 27,
     "metadata": {},
     "output_type": "execute_result"
    }
   ],
   "source": [
    "data_cat['occupation'].value_counts(normalize=True)"
   ]
  },
  {
   "cell_type": "code",
   "execution_count": 28,
   "id": "pleased-specific",
   "metadata": {},
   "outputs": [
    {
     "data": {
      "text/plain": [
       "<AxesSubplot:xlabel='count', ylabel='occupation'>"
      ]
     },
     "execution_count": 28,
     "metadata": {},
     "output_type": "execute_result"
    },
    {
     "data": {
      "image/png": "[encoded data removed]",
      "text/plain": [
       "<Figure size 432x288 with 1 Axes>"
      ]
     },
     "metadata": {},
     "output_type": "display_data"
    }
   ],
   "source": [
    "sns.countplot(y='occupation', data=data_cat)"
   ]
  },
  {
   "cell_type": "code",
   "execution_count": 29,
   "id": "protected-guide",
   "metadata": {},
   "outputs": [
    {
     "data": {
      "text/plain": [
       "<AxesSubplot:xlabel='income', ylabel='count'>"
      ]
     },
     "execution_count": 29,
     "metadata": {},
     "output_type": "execute_result"
    },
    {
     "data": {
      "image/png": "[encoded data removed]",
      "text/plain": [
       "<Figure size 1080x504 with 1 Axes>"
      ]
     },
     "metadata": {},
     "output_type": "display_data"
    }
   ],
   "source": [
    "plt.figure(figsize=(15,7))\n",
    "sns.countplot(x='income', hue='occupation', data=data_cat)"
   ]
  },
  {
   "cell_type": "code",
   "execution_count": 30,
   "id": "lesser-particular",
   "metadata": {},
   "outputs": [
    {
     "data": {
      "text/html": [
       "<div>\n",
       "<style scoped>\n",
       "    .dataframe tbody tr th:only-of-type {\n",
       "        vertical-align: middle;\n",
       "    }\n",
       "\n",
       "    .dataframe tbody tr th {\n",
       "        vertical-align: top;\n",
       "    }\n",
       "\n",
       "    .dataframe thead th {\n",
       "        text-align: right;\n",
       "    }\n",
       "</style>\n",
       "<table border=\"1\" class=\"dataframe\">\n",
       "  <thead>\n",
       "    <tr style=\"text-align: right;\">\n",
       "      <th></th>\n",
       "      <th>workclass</th>\n",
       "      <th>education</th>\n",
       "      <th>marital_status</th>\n",
       "      <th>occupation</th>\n",
       "      <th>relationship</th>\n",
       "      <th>race</th>\n",
       "      <th>sex</th>\n",
       "      <th>native_country</th>\n",
       "      <th>income</th>\n",
       "    </tr>\n",
       "  </thead>\n",
       "  <tbody>\n",
       "    <tr>\n",
       "      <th>0</th>\n",
       "      <td>State-gov</td>\n",
       "      <td>Bachelors</td>\n",
       "      <td>Never-married</td>\n",
       "      <td>Adm-clerical</td>\n",
       "      <td>Not-in-family</td>\n",
       "      <td>White</td>\n",
       "      <td>Male</td>\n",
       "      <td>United-States</td>\n",
       "      <td>0</td>\n",
       "    </tr>\n",
       "    <tr>\n",
       "      <th>1</th>\n",
       "      <td>Self-emp-not-inc</td>\n",
       "      <td>Bachelors</td>\n",
       "      <td>Married-civ-spouse</td>\n",
       "      <td>Exec-managerial</td>\n",
       "      <td>Husband</td>\n",
       "      <td>White</td>\n",
       "      <td>Male</td>\n",
       "      <td>United-States</td>\n",
       "      <td>0</td>\n",
       "    </tr>\n",
       "    <tr>\n",
       "      <th>2</th>\n",
       "      <td>Private</td>\n",
       "      <td>HS-grad</td>\n",
       "      <td>DSW</td>\n",
       "      <td>Handlers-cleaners</td>\n",
       "      <td>Not-in-family</td>\n",
       "      <td>White</td>\n",
       "      <td>Male</td>\n",
       "      <td>United-States</td>\n",
       "      <td>0</td>\n",
       "    </tr>\n",
       "    <tr>\n",
       "      <th>3</th>\n",
       "      <td>Private</td>\n",
       "      <td>Below_HS</td>\n",
       "      <td>Married-civ-spouse</td>\n",
       "      <td>Handlers-cleaners</td>\n",
       "      <td>Husband</td>\n",
       "      <td>Black</td>\n",
       "      <td>Male</td>\n",
       "      <td>United-States</td>\n",
       "      <td>0</td>\n",
       "    </tr>\n",
       "    <tr>\n",
       "      <th>4</th>\n",
       "      <td>Private</td>\n",
       "      <td>Bachelors</td>\n",
       "      <td>Married-civ-spouse</td>\n",
       "      <td>Prof-specialty</td>\n",
       "      <td>Wife</td>\n",
       "      <td>Black</td>\n",
       "      <td>Female</td>\n",
       "      <td>Cuba</td>\n",
       "      <td>0</td>\n",
       "    </tr>\n",
       "  </tbody>\n",
       "</table>\n",
       "</div>"
      ],
      "text/plain": [
       "          workclass  education      marital_status         occupation  \\\n",
       "0         State-gov  Bachelors       Never-married       Adm-clerical   \n",
       "1  Self-emp-not-inc  Bachelors  Married-civ-spouse    Exec-managerial   \n",
       "2           Private    HS-grad                 DSW  Handlers-cleaners   \n",
       "3           Private   Below_HS  Married-civ-spouse  Handlers-cleaners   \n",
       "4           Private  Bachelors  Married-civ-spouse     Prof-specialty   \n",
       "\n",
       "    relationship   race     sex native_country  income  \n",
       "0  Not-in-family  White    Male  United-States       0  \n",
       "1        Husband  White    Male  United-States       0  \n",
       "2  Not-in-family  White    Male  United-States       0  \n",
       "3        Husband  Black    Male  United-States       0  \n",
       "4           Wife  Black  Female           Cuba       0  "
      ]
     },
     "execution_count": 30,
     "metadata": {},
     "output_type": "execute_result"
    }
   ],
   "source": [
    "df_copycat.head(5)"
   ]
  },
  {
   "cell_type": "markdown",
   "id": "interstate-mayor",
   "metadata": {},
   "source": [
    "### Modifying the column"
   ]
  },
  {
   "cell_type": "code",
   "execution_count": 31,
   "id": "short-indian",
   "metadata": {},
   "outputs": [],
   "source": [
    "df_copycat['occupation'] = df_copycat['occupation'].apply(lambda x: 'Other-service' if x is '?' else x)"
   ]
  },
  {
   "cell_type": "code",
   "execution_count": 32,
   "id": "virtual-closer",
   "metadata": {},
   "outputs": [
    {
     "data": {
      "text/plain": [
       "Other-service        15.779614\n",
       "Prof-specialty       12.714597\n",
       "Craft-repair         12.588680\n",
       "Exec-managerial      12.487331\n",
       "Adm-clerical         11.578268\n",
       "Sales                11.209729\n",
       "Machine-op-inspct     6.148460\n",
       "Transport-moving      4.904641\n",
       "Handlers-cleaners     4.207487\n",
       "Farming-fishing       3.052732\n",
       "Tech-support          2.850035\n",
       "Protective-serv       1.993182\n",
       "Priv-house-serv       0.457603\n",
       "Armed-Forces          0.027640\n",
       "Name: occupation, dtype: float64"
      ]
     },
     "execution_count": 32,
     "metadata": {},
     "output_type": "execute_result"
    }
   ],
   "source": [
    "df_copycat['occupation'].value_counts(normalize=True)*100"
   ]
  },
  {
   "cell_type": "code",
   "execution_count": 33,
   "id": "personal-strike",
   "metadata": {},
   "outputs": [
    {
     "data": {
      "text/plain": [
       "<AxesSubplot:xlabel='income', ylabel='count'>"
      ]
     },
     "execution_count": 33,
     "metadata": {},
     "output_type": "execute_result"
    },
    {
     "data": {
      "image/png": "[encoded data removed]",
      "text/plain": [
       "<Figure size 1080x504 with 1 Axes>"
      ]
     },
     "metadata": {},
     "output_type": "display_data"
    }
   ],
   "source": [
    "sns.set_style(style='darkgrid')\n",
    "plt.figure(figsize=(15,7))\n",
    "sns.countplot(x='income', hue='occupation', data=df_copycat)"
   ]
  },
  {
   "cell_type": "markdown",
   "id": "strong-beauty",
   "metadata": {},
   "source": [
    "## Exploring relationship col"
   ]
  },
  {
   "cell_type": "code",
   "execution_count": 34,
   "id": "conceptual-commitment",
   "metadata": {},
   "outputs": [
    {
     "data": {
      "text/plain": [
       "Husband           40.517797\n",
       "Not-in-family     25.505973\n",
       "Own-child         15.564633\n",
       "Unmarried         10.583213\n",
       "Wife               4.815577\n",
       "Other-relative     3.012807\n",
       "Name: relationship, dtype: float64"
      ]
     },
     "execution_count": 34,
     "metadata": {},
     "output_type": "execute_result"
    }
   ],
   "source": [
    "data_cat['relationship'].value_counts(normalize=True)*100"
   ]
  },
  {
   "cell_type": "code",
   "execution_count": 35,
   "id": "confused-alexander",
   "metadata": {},
   "outputs": [
    {
     "data": {
      "text/plain": [
       "<AxesSubplot:xlabel='count', ylabel='relationship'>"
      ]
     },
     "execution_count": 35,
     "metadata": {},
     "output_type": "execute_result"
    },
    {
     "data": {
      "image/png": "[encoded data removed]",
      "text/plain": [
       "<Figure size 432x288 with 1 Axes>"
      ]
     },
     "metadata": {},
     "output_type": "display_data"
    }
   ],
   "source": [
    "sns.countplot(y='relationship', data=data_cat)"
   ]
  },
  {
   "cell_type": "code",
   "execution_count": 36,
   "id": "cross-review",
   "metadata": {},
   "outputs": [
    {
     "data": {
      "text/plain": [
       "<AxesSubplot:xlabel='income', ylabel='count'>"
      ]
     },
     "execution_count": 36,
     "metadata": {},
     "output_type": "execute_result"
    },
    {
     "data": {
      "image/png": "[encoded data removed]",
      "text/plain": [
       "<Figure size 432x288 with 1 Axes>"
      ]
     },
     "metadata": {},
     "output_type": "display_data"
    }
   ],
   "source": [
    "sns.countplot(x='income', hue='relationship', data=data_cat)"
   ]
  },
  {
   "cell_type": "markdown",
   "id": "conditional-boards",
   "metadata": {},
   "source": [
    "## Exploring 'race' col"
   ]
  },
  {
   "cell_type": "code",
   "execution_count": 37,
   "id": "micro-recording",
   "metadata": {},
   "outputs": [
    {
     "data": {
      "text/plain": [
       "<AxesSubplot:xlabel='count', ylabel='race'>"
      ]
     },
     "execution_count": 37,
     "metadata": {},
     "output_type": "execute_result"
    },
    {
     "data": {
      "image/png": "[encoded data removed]",
      "text/plain": [
       "<Figure size 432x288 with 1 Axes>"
      ]
     },
     "metadata": {},
     "output_type": "display_data"
    }
   ],
   "source": [
    "#plt.figure(figsize=(9,4))\n",
    "sns.countplot(y='race', data=data_cat)"
   ]
  },
  {
   "cell_type": "code",
   "execution_count": 38,
   "id": "charitable-brief",
   "metadata": {},
   "outputs": [
    {
     "data": {
      "text/plain": [
       "<AxesSubplot:xlabel='income', ylabel='count'>"
      ]
     },
     "execution_count": 38,
     "metadata": {},
     "output_type": "execute_result"
    },
    {
     "data": {
      "image/png": "[encoded data removed]",
      "text/plain": [
       "<Figure size 432x288 with 1 Axes>"
      ]
     },
     "metadata": {},
     "output_type": "display_data"
    }
   ],
   "source": [
    "sns.countplot(x='income', data=data_cat, hue='race')"
   ]
  },
  {
   "cell_type": "code",
   "execution_count": 39,
   "id": "perceived-accent",
   "metadata": {},
   "outputs": [
    {
     "data": {
      "text/plain": [
       "White                 0.854274\n",
       "Black                 0.095943\n",
       "Asian-Pac-Islander    0.031909\n",
       "Amer-Indian-Eskimo    0.009551\n",
       "Other                 0.008323\n",
       "Name: race, dtype: float64"
      ]
     },
     "execution_count": 39,
     "metadata": {},
     "output_type": "execute_result"
    }
   ],
   "source": [
    "data_cat['race'].value_counts(normalize=True)"
   ]
  },
  {
   "cell_type": "code",
   "execution_count": 40,
   "id": "second-charlotte",
   "metadata": {},
   "outputs": [],
   "source": [
    "grp_race = data_cat.groupby(by='race')\n",
    "dict_race = data_cat['race'].value_counts().to_dict()"
   ]
  },
  {
   "cell_type": "code",
   "execution_count": 41,
   "id": "natural-workshop",
   "metadata": {},
   "outputs": [
    {
     "name": "stdout",
     "output_type": "stream",
     "text": [
      "White 27816\n",
      "{'<=50K': 0.7441400632729365, '>50K': 0.2558599367270636}\n",
      "Black 3124\n",
      "{'<=50K': 0.8761203585147247, '>50K': 0.12387964148527529}\n",
      "Asian-Pac-Islander 1039\n",
      "{'<=50K': 0.7343599615014437, '>50K': 0.26564003849855633}\n",
      "Amer-Indian-Eskimo 311\n",
      "{'<=50K': 0.8842443729903537, '>50K': 0.1157556270096463}\n",
      "Other 271\n",
      "{'<=50K': 0.9077490774907749, '>50K': 0.09225092250922509}\n"
     ]
    }
   ],
   "source": [
    "for k,v in dict_race.items():\n",
    "    print(k, v)\n",
    "    print(grp_race.get_group(k)['income'].value_counts(normalize=True).to_dict())"
   ]
  },
  {
   "cell_type": "markdown",
   "id": "apparent-novelty",
   "metadata": {},
   "source": [
    "## Exploring 'sex' Column"
   ]
  },
  {
   "cell_type": "code",
   "execution_count": 42,
   "id": "cellular-thought",
   "metadata": {},
   "outputs": [
    {
     "data": {
      "text/plain": [
       "Male      0.669205\n",
       "Female    0.330795\n",
       "Name: sex, dtype: float64"
      ]
     },
     "execution_count": 42,
     "metadata": {},
     "output_type": "execute_result"
    }
   ],
   "source": [
    "data_cat['sex'].value_counts(normalize=True)"
   ]
  },
  {
   "cell_type": "code",
   "execution_count": 43,
   "id": "executive-ghost",
   "metadata": {},
   "outputs": [
    {
     "data": {
      "text/plain": [
       "<AxesSubplot:xlabel='count', ylabel='sex'>"
      ]
     },
     "execution_count": 43,
     "metadata": {},
     "output_type": "execute_result"
    },
    {
     "data": {
      "image/png": "[encoded data removed]",
      "text/plain": [
       "<Figure size 432x288 with 1 Axes>"
      ]
     },
     "metadata": {},
     "output_type": "display_data"
    }
   ],
   "source": [
    "sns.countplot(y='sex',data=data_cat)"
   ]
  },
  {
   "cell_type": "code",
   "execution_count": 44,
   "id": "rational-london",
   "metadata": {},
   "outputs": [
    {
     "data": {
      "text/plain": [
       "<AxesSubplot:xlabel='income', ylabel='count'>"
      ]
     },
     "execution_count": 44,
     "metadata": {},
     "output_type": "execute_result"
    },
    {
     "data": {
      "image/png": "[encoded data removed]",
      "text/plain": [
       "<Figure size 432x288 with 1 Axes>"
      ]
     },
     "metadata": {},
     "output_type": "display_data"
    }
   ],
   "source": [
    "sns.countplot(x='income', hue='sex', data=data_cat)"
   ]
  },
  {
   "cell_type": "markdown",
   "id": "external-calcium",
   "metadata": {},
   "source": [
    "### Exploring 'native_country' Column - Decided to drop this one"
   ]
  },
  {
   "cell_type": "code",
   "execution_count": 45,
   "id": "adapted-bernard",
   "metadata": {},
   "outputs": [
    {
     "data": {
      "text/plain": [
       "<AxesSubplot:xlabel='count', ylabel='native_country'>"
      ]
     },
     "execution_count": 45,
     "metadata": {},
     "output_type": "execute_result"
    },
    {
     "data": {
      "image/png": "[encoded data removed]",
      "text/plain": [
       "<Figure size 1440x720 with 1 Axes>"
      ]
     },
     "metadata": {},
     "output_type": "display_data"
    }
   ],
   "source": [
    "sns.set_style(style='darkgrid')\n",
    "plt.figure(figsize=(20,10))\n",
    "sns.countplot(y='native_country', data=data_cat)"
   ]
  },
  {
   "cell_type": "code",
   "execution_count": 46,
   "id": "scientific-updating",
   "metadata": {},
   "outputs": [
    {
     "data": {
      "text/html": [
       "<div>\n",
       "<style scoped>\n",
       "    .dataframe tbody tr th:only-of-type {\n",
       "        vertical-align: middle;\n",
       "    }\n",
       "\n",
       "    .dataframe tbody tr th {\n",
       "        vertical-align: top;\n",
       "    }\n",
       "\n",
       "    .dataframe thead th {\n",
       "        text-align: right;\n",
       "    }\n",
       "</style>\n",
       "<table border=\"1\" class=\"dataframe\">\n",
       "  <thead>\n",
       "    <tr style=\"text-align: right;\">\n",
       "      <th></th>\n",
       "      <th>workclass</th>\n",
       "      <th>education</th>\n",
       "      <th>marital_status</th>\n",
       "      <th>occupation</th>\n",
       "      <th>relationship</th>\n",
       "      <th>race</th>\n",
       "      <th>sex</th>\n",
       "      <th>native_country</th>\n",
       "      <th>income</th>\n",
       "    </tr>\n",
       "  </thead>\n",
       "  <tbody>\n",
       "    <tr>\n",
       "      <th>0</th>\n",
       "      <td>State-gov</td>\n",
       "      <td>Bachelors</td>\n",
       "      <td>Never-married</td>\n",
       "      <td>Adm-clerical</td>\n",
       "      <td>Not-in-family</td>\n",
       "      <td>White</td>\n",
       "      <td>Male</td>\n",
       "      <td>United-States</td>\n",
       "      <td>&lt;=50K</td>\n",
       "    </tr>\n",
       "    <tr>\n",
       "      <th>1</th>\n",
       "      <td>Self-emp-not-inc</td>\n",
       "      <td>Bachelors</td>\n",
       "      <td>Married-civ-spouse</td>\n",
       "      <td>Exec-managerial</td>\n",
       "      <td>Husband</td>\n",
       "      <td>White</td>\n",
       "      <td>Male</td>\n",
       "      <td>United-States</td>\n",
       "      <td>&lt;=50K</td>\n",
       "    </tr>\n",
       "    <tr>\n",
       "      <th>2</th>\n",
       "      <td>Private</td>\n",
       "      <td>HS-grad</td>\n",
       "      <td>Divorced</td>\n",
       "      <td>Handlers-cleaners</td>\n",
       "      <td>Not-in-family</td>\n",
       "      <td>White</td>\n",
       "      <td>Male</td>\n",
       "      <td>United-States</td>\n",
       "      <td>&lt;=50K</td>\n",
       "    </tr>\n",
       "    <tr>\n",
       "      <th>3</th>\n",
       "      <td>Private</td>\n",
       "      <td>11th</td>\n",
       "      <td>Married-civ-spouse</td>\n",
       "      <td>Handlers-cleaners</td>\n",
       "      <td>Husband</td>\n",
       "      <td>Black</td>\n",
       "      <td>Male</td>\n",
       "      <td>United-States</td>\n",
       "      <td>&lt;=50K</td>\n",
       "    </tr>\n",
       "    <tr>\n",
       "      <th>5</th>\n",
       "      <td>Private</td>\n",
       "      <td>Masters</td>\n",
       "      <td>Married-civ-spouse</td>\n",
       "      <td>Exec-managerial</td>\n",
       "      <td>Wife</td>\n",
       "      <td>White</td>\n",
       "      <td>Female</td>\n",
       "      <td>United-States</td>\n",
       "      <td>&lt;=50K</td>\n",
       "    </tr>\n",
       "    <tr>\n",
       "      <th>...</th>\n",
       "      <td>...</td>\n",
       "      <td>...</td>\n",
       "      <td>...</td>\n",
       "      <td>...</td>\n",
       "      <td>...</td>\n",
       "      <td>...</td>\n",
       "      <td>...</td>\n",
       "      <td>...</td>\n",
       "      <td>...</td>\n",
       "    </tr>\n",
       "    <tr>\n",
       "      <th>32556</th>\n",
       "      <td>Private</td>\n",
       "      <td>Assoc-acdm</td>\n",
       "      <td>Married-civ-spouse</td>\n",
       "      <td>Tech-support</td>\n",
       "      <td>Wife</td>\n",
       "      <td>White</td>\n",
       "      <td>Female</td>\n",
       "      <td>United-States</td>\n",
       "      <td>&lt;=50K</td>\n",
       "    </tr>\n",
       "    <tr>\n",
       "      <th>32557</th>\n",
       "      <td>Private</td>\n",
       "      <td>HS-grad</td>\n",
       "      <td>Married-civ-spouse</td>\n",
       "      <td>Machine-op-inspct</td>\n",
       "      <td>Husband</td>\n",
       "      <td>White</td>\n",
       "      <td>Male</td>\n",
       "      <td>United-States</td>\n",
       "      <td>&gt;50K</td>\n",
       "    </tr>\n",
       "    <tr>\n",
       "      <th>32558</th>\n",
       "      <td>Private</td>\n",
       "      <td>HS-grad</td>\n",
       "      <td>Widowed</td>\n",
       "      <td>Adm-clerical</td>\n",
       "      <td>Unmarried</td>\n",
       "      <td>White</td>\n",
       "      <td>Female</td>\n",
       "      <td>United-States</td>\n",
       "      <td>&lt;=50K</td>\n",
       "    </tr>\n",
       "    <tr>\n",
       "      <th>32559</th>\n",
       "      <td>Private</td>\n",
       "      <td>HS-grad</td>\n",
       "      <td>Never-married</td>\n",
       "      <td>Adm-clerical</td>\n",
       "      <td>Own-child</td>\n",
       "      <td>White</td>\n",
       "      <td>Male</td>\n",
       "      <td>United-States</td>\n",
       "      <td>&lt;=50K</td>\n",
       "    </tr>\n",
       "    <tr>\n",
       "      <th>32560</th>\n",
       "      <td>Self-emp-inc</td>\n",
       "      <td>HS-grad</td>\n",
       "      <td>Married-civ-spouse</td>\n",
       "      <td>Exec-managerial</td>\n",
       "      <td>Wife</td>\n",
       "      <td>White</td>\n",
       "      <td>Female</td>\n",
       "      <td>United-States</td>\n",
       "      <td>&gt;50K</td>\n",
       "    </tr>\n",
       "  </tbody>\n",
       "</table>\n",
       "<p>29170 rows × 9 columns</p>\n",
       "</div>"
      ],
      "text/plain": [
       "              workclass   education      marital_status         occupation  \\\n",
       "0             State-gov   Bachelors       Never-married       Adm-clerical   \n",
       "1      Self-emp-not-inc   Bachelors  Married-civ-spouse    Exec-managerial   \n",
       "2               Private     HS-grad            Divorced  Handlers-cleaners   \n",
       "3               Private        11th  Married-civ-spouse  Handlers-cleaners   \n",
       "5               Private     Masters  Married-civ-spouse    Exec-managerial   \n",
       "...                 ...         ...                 ...                ...   \n",
       "32556           Private  Assoc-acdm  Married-civ-spouse       Tech-support   \n",
       "32557           Private     HS-grad  Married-civ-spouse  Machine-op-inspct   \n",
       "32558           Private     HS-grad             Widowed       Adm-clerical   \n",
       "32559           Private     HS-grad       Never-married       Adm-clerical   \n",
       "32560      Self-emp-inc     HS-grad  Married-civ-spouse    Exec-managerial   \n",
       "\n",
       "        relationship   race     sex native_country income  \n",
       "0      Not-in-family  White    Male  United-States  <=50K  \n",
       "1            Husband  White    Male  United-States  <=50K  \n",
       "2      Not-in-family  White    Male  United-States  <=50K  \n",
       "3            Husband  Black    Male  United-States  <=50K  \n",
       "5               Wife  White  Female  United-States  <=50K  \n",
       "...              ...    ...     ...            ...    ...  \n",
       "32556           Wife  White  Female  United-States  <=50K  \n",
       "32557        Husband  White    Male  United-States   >50K  \n",
       "32558      Unmarried  White  Female  United-States  <=50K  \n",
       "32559      Own-child  White    Male  United-States  <=50K  \n",
       "32560           Wife  White  Female  United-States   >50K  \n",
       "\n",
       "[29170 rows x 9 columns]"
      ]
     },
     "execution_count": 46,
     "metadata": {},
     "output_type": "execute_result"
    }
   ],
   "source": [
    "data_grp = data_cat.groupby(by='native_country')\n",
    "data_grp.get_group('United-States')"
   ]
  },
  {
   "cell_type": "code",
   "execution_count": 47,
   "id": "premier-xerox",
   "metadata": {},
   "outputs": [
    {
     "data": {
      "text/plain": [
       "{'<=50K': 0.7541652382584847, '>50K': 0.24583476174151525}"
      ]
     },
     "execution_count": 47,
     "metadata": {},
     "output_type": "execute_result"
    }
   ],
   "source": [
    "data_grp.get_group('United-States')['income'].value_counts(normalize=True).to_dict()"
   ]
  },
  {
   "cell_type": "code",
   "execution_count": 48,
   "id": "driven-israel",
   "metadata": {
    "scrolled": true
   },
   "outputs": [],
   "source": [
    "dict_country = data['native_country'].value_counts().to_dict()"
   ]
  },
  {
   "cell_type": "code",
   "execution_count": 49,
   "id": "acute-essay",
   "metadata": {
    "scrolled": true
   },
   "outputs": [
    {
     "name": "stdout",
     "output_type": "stream",
     "text": [
      "United-States 29170\n",
      "{'<=50K': 0.7541652382584847, '>50K': 0.24583476174151525}\n",
      "Mexico 643\n",
      "{'<=50K': 0.9486780715396579, '>50K': 0.05132192846034215}\n",
      "? 583\n",
      "{'<=50K': 0.7495711835334476, '>50K': 0.2504288164665523}\n",
      "Philippines 198\n",
      "{'<=50K': 0.6919191919191919, '>50K': 0.30808080808080807}\n",
      "Germany 137\n",
      "{'<=50K': 0.6788321167883211, '>50K': 0.32116788321167883}\n",
      "Canada 121\n",
      "{'<=50K': 0.6776859504132231, '>50K': 0.32231404958677684}\n",
      "Puerto-Rico 114\n",
      "{'<=50K': 0.8947368421052632, '>50K': 0.10526315789473684}\n",
      "El-Salvador 106\n",
      "{'<=50K': 0.9150943396226415, '>50K': 0.08490566037735849}\n",
      "India 100\n",
      "{'<=50K': 0.6, '>50K': 0.4}\n",
      "Cuba 95\n",
      "{'<=50K': 0.7368421052631579, '>50K': 0.2631578947368421}\n",
      "England 90\n",
      "{'<=50K': 0.6666666666666666, '>50K': 0.3333333333333333}\n",
      "Jamaica 81\n",
      "{'<=50K': 0.8765432098765432, '>50K': 0.12345679012345678}\n",
      "South 80\n",
      "{'<=50K': 0.8, '>50K': 0.2}\n",
      "China 75\n",
      "{'<=50K': 0.7333333333333333, '>50K': 0.26666666666666666}\n",
      "Italy 73\n",
      "{'<=50K': 0.6575342465753424, '>50K': 0.3424657534246575}\n",
      "Dominican-Republic 70\n",
      "{'<=50K': 0.9714285714285714, '>50K': 0.02857142857142857}\n",
      "Vietnam 67\n",
      "{'<=50K': 0.9253731343283582, '>50K': 0.07462686567164178}\n",
      "Guatemala 64\n",
      "{'<=50K': 0.953125, '>50K': 0.046875}\n",
      "Japan 62\n",
      "{'<=50K': 0.6129032258064516, '>50K': 0.3870967741935484}\n",
      "Poland 60\n",
      "{'<=50K': 0.8, '>50K': 0.2}\n",
      "Columbia 59\n",
      "{'<=50K': 0.9661016949152542, '>50K': 0.03389830508474576}\n",
      "Taiwan 51\n",
      "{'<=50K': 0.6078431372549019, '>50K': 0.39215686274509803}\n",
      "Haiti 44\n",
      "{'<=50K': 0.9090909090909091, '>50K': 0.09090909090909091}\n",
      "Iran 43\n",
      "{'<=50K': 0.5813953488372093, '>50K': 0.4186046511627907}\n",
      "Portugal 37\n",
      "{'<=50K': 0.8918918918918919, '>50K': 0.10810810810810811}\n",
      "Nicaragua 34\n",
      "{'<=50K': 0.9411764705882353, '>50K': 0.058823529411764705}\n",
      "Peru 31\n",
      "{'<=50K': 0.9354838709677419, '>50K': 0.06451612903225806}\n",
      "Greece 29\n",
      "{'<=50K': 0.7241379310344828, '>50K': 0.27586206896551724}\n",
      "France 29\n",
      "{'<=50K': 0.5862068965517241, '>50K': 0.41379310344827586}\n",
      "Ecuador 28\n",
      "{'<=50K': 0.8571428571428571, '>50K': 0.14285714285714285}\n",
      "Ireland 24\n",
      "{'<=50K': 0.7916666666666666, '>50K': 0.20833333333333334}\n",
      "Hong 20\n",
      "{'<=50K': 0.7, '>50K': 0.3}\n",
      "Cambodia 19\n",
      "{'<=50K': 0.631578947368421, '>50K': 0.3684210526315789}\n",
      "Trinadad&Tobago 19\n",
      "{'<=50K': 0.8947368421052632, '>50K': 0.10526315789473684}\n",
      "Thailand 18\n",
      "{'<=50K': 0.8333333333333334, '>50K': 0.16666666666666666}\n",
      "Laos 18\n",
      "{'<=50K': 0.8888888888888888, '>50K': 0.1111111111111111}\n",
      "Yugoslavia 16\n",
      "{'<=50K': 0.625, '>50K': 0.375}\n",
      "Outlying-US(Guam-USVI-etc) 14\n",
      "{'<=50K': 1.0}\n",
      "Honduras 13\n",
      "{'<=50K': 0.9230769230769231, '>50K': 0.07692307692307693}\n",
      "Hungary 13\n",
      "{'<=50K': 0.7692307692307693, '>50K': 0.23076923076923078}\n",
      "Scotland 12\n",
      "{'<=50K': 0.75, '>50K': 0.25}\n",
      "Holand-Netherlands 1\n",
      "{'<=50K': 1.0}\n"
     ]
    }
   ],
   "source": [
    "for k,v in dict_country.items():\n",
    "    print(k, v)\n",
    "    print(data_grp.get_group(k)['income'].value_counts(normalize=True).to_dict())"
   ]
  },
  {
   "cell_type": "markdown",
   "id": "organized-supply",
   "metadata": {},
   "source": [
    "### Comparing the modified and original categorical columns"
   ]
  },
  {
   "cell_type": "code",
   "execution_count": 50,
   "id": "neutral-packaging",
   "metadata": {},
   "outputs": [
    {
     "data": {
      "text/html": [
       "<div>\n",
       "<style scoped>\n",
       "    .dataframe tbody tr th:only-of-type {\n",
       "        vertical-align: middle;\n",
       "    }\n",
       "\n",
       "    .dataframe tbody tr th {\n",
       "        vertical-align: top;\n",
       "    }\n",
       "\n",
       "    .dataframe thead th {\n",
       "        text-align: right;\n",
       "    }\n",
       "</style>\n",
       "<table border=\"1\" class=\"dataframe\">\n",
       "  <thead>\n",
       "    <tr style=\"text-align: right;\">\n",
       "      <th></th>\n",
       "      <th>workclass</th>\n",
       "      <th>education</th>\n",
       "      <th>marital_status</th>\n",
       "      <th>occupation</th>\n",
       "      <th>relationship</th>\n",
       "      <th>race</th>\n",
       "      <th>sex</th>\n",
       "      <th>native_country</th>\n",
       "      <th>income</th>\n",
       "    </tr>\n",
       "  </thead>\n",
       "  <tbody>\n",
       "    <tr>\n",
       "      <th>14160</th>\n",
       "      <td>Private</td>\n",
       "      <td>Some-college</td>\n",
       "      <td>Divorced</td>\n",
       "      <td>Adm-clerical</td>\n",
       "      <td>Not-in-family</td>\n",
       "      <td>White</td>\n",
       "      <td>Female</td>\n",
       "      <td>United-States</td>\n",
       "      <td>&lt;=50K</td>\n",
       "    </tr>\n",
       "    <tr>\n",
       "      <th>27048</th>\n",
       "      <td>State-gov</td>\n",
       "      <td>HS-grad</td>\n",
       "      <td>Married-civ-spouse</td>\n",
       "      <td>Exec-managerial</td>\n",
       "      <td>Wife</td>\n",
       "      <td>White</td>\n",
       "      <td>Female</td>\n",
       "      <td>United-States</td>\n",
       "      <td>&lt;=50K</td>\n",
       "    </tr>\n",
       "    <tr>\n",
       "      <th>28868</th>\n",
       "      <td>Private</td>\n",
       "      <td>Bachelors</td>\n",
       "      <td>Married-civ-spouse</td>\n",
       "      <td>Exec-managerial</td>\n",
       "      <td>Husband</td>\n",
       "      <td>Black</td>\n",
       "      <td>Male</td>\n",
       "      <td>United-States</td>\n",
       "      <td>&gt;50K</td>\n",
       "    </tr>\n",
       "    <tr>\n",
       "      <th>5667</th>\n",
       "      <td>Private</td>\n",
       "      <td>Bachelors</td>\n",
       "      <td>Never-married</td>\n",
       "      <td>Machine-op-inspct</td>\n",
       "      <td>Not-in-family</td>\n",
       "      <td>White</td>\n",
       "      <td>Female</td>\n",
       "      <td>United-States</td>\n",
       "      <td>&lt;=50K</td>\n",
       "    </tr>\n",
       "    <tr>\n",
       "      <th>7827</th>\n",
       "      <td>Self-emp-not-inc</td>\n",
       "      <td>Some-college</td>\n",
       "      <td>Divorced</td>\n",
       "      <td>Craft-repair</td>\n",
       "      <td>Not-in-family</td>\n",
       "      <td>White</td>\n",
       "      <td>Male</td>\n",
       "      <td>United-States</td>\n",
       "      <td>&lt;=50K</td>\n",
       "    </tr>\n",
       "    <tr>\n",
       "      <th>15382</th>\n",
       "      <td>Private</td>\n",
       "      <td>Masters</td>\n",
       "      <td>Married-civ-spouse</td>\n",
       "      <td>Prof-specialty</td>\n",
       "      <td>Husband</td>\n",
       "      <td>White</td>\n",
       "      <td>Male</td>\n",
       "      <td>United-States</td>\n",
       "      <td>&gt;50K</td>\n",
       "    </tr>\n",
       "    <tr>\n",
       "      <th>4641</th>\n",
       "      <td>Self-emp-not-inc</td>\n",
       "      <td>HS-grad</td>\n",
       "      <td>Married-civ-spouse</td>\n",
       "      <td>Exec-managerial</td>\n",
       "      <td>Husband</td>\n",
       "      <td>White</td>\n",
       "      <td>Male</td>\n",
       "      <td>United-States</td>\n",
       "      <td>&gt;50K</td>\n",
       "    </tr>\n",
       "    <tr>\n",
       "      <th>8943</th>\n",
       "      <td>Private</td>\n",
       "      <td>HS-grad</td>\n",
       "      <td>Never-married</td>\n",
       "      <td>Adm-clerical</td>\n",
       "      <td>Not-in-family</td>\n",
       "      <td>Other</td>\n",
       "      <td>Female</td>\n",
       "      <td>United-States</td>\n",
       "      <td>&lt;=50K</td>\n",
       "    </tr>\n",
       "    <tr>\n",
       "      <th>216</th>\n",
       "      <td>Private</td>\n",
       "      <td>Assoc-acdm</td>\n",
       "      <td>Divorced</td>\n",
       "      <td>Sales</td>\n",
       "      <td>Not-in-family</td>\n",
       "      <td>White</td>\n",
       "      <td>Female</td>\n",
       "      <td>United-States</td>\n",
       "      <td>&lt;=50K</td>\n",
       "    </tr>\n",
       "    <tr>\n",
       "      <th>5121</th>\n",
       "      <td>Private</td>\n",
       "      <td>HS-grad</td>\n",
       "      <td>Married-civ-spouse</td>\n",
       "      <td>Craft-repair</td>\n",
       "      <td>Husband</td>\n",
       "      <td>White</td>\n",
       "      <td>Male</td>\n",
       "      <td>United-States</td>\n",
       "      <td>&gt;50K</td>\n",
       "    </tr>\n",
       "    <tr>\n",
       "      <th>345</th>\n",
       "      <td>Self-emp-not-inc</td>\n",
       "      <td>Bachelors</td>\n",
       "      <td>Never-married</td>\n",
       "      <td>Sales</td>\n",
       "      <td>Not-in-family</td>\n",
       "      <td>White</td>\n",
       "      <td>Male</td>\n",
       "      <td>United-States</td>\n",
       "      <td>&lt;=50K</td>\n",
       "    </tr>\n",
       "    <tr>\n",
       "      <th>31900</th>\n",
       "      <td>Private</td>\n",
       "      <td>HS-grad</td>\n",
       "      <td>Divorced</td>\n",
       "      <td>Handlers-cleaners</td>\n",
       "      <td>Not-in-family</td>\n",
       "      <td>White</td>\n",
       "      <td>Male</td>\n",
       "      <td>United-States</td>\n",
       "      <td>&lt;=50K</td>\n",
       "    </tr>\n",
       "    <tr>\n",
       "      <th>20010</th>\n",
       "      <td>Private</td>\n",
       "      <td>Bachelors</td>\n",
       "      <td>Never-married</td>\n",
       "      <td>Prof-specialty</td>\n",
       "      <td>Not-in-family</td>\n",
       "      <td>White</td>\n",
       "      <td>Male</td>\n",
       "      <td>United-States</td>\n",
       "      <td>&gt;50K</td>\n",
       "    </tr>\n",
       "    <tr>\n",
       "      <th>11808</th>\n",
       "      <td>Private</td>\n",
       "      <td>7th-8th</td>\n",
       "      <td>Married-civ-spouse</td>\n",
       "      <td>Prof-specialty</td>\n",
       "      <td>Wife</td>\n",
       "      <td>White</td>\n",
       "      <td>Female</td>\n",
       "      <td>United-States</td>\n",
       "      <td>&lt;=50K</td>\n",
       "    </tr>\n",
       "    <tr>\n",
       "      <th>14587</th>\n",
       "      <td>Private</td>\n",
       "      <td>Some-college</td>\n",
       "      <td>Married-civ-spouse</td>\n",
       "      <td>Other-service</td>\n",
       "      <td>Wife</td>\n",
       "      <td>White</td>\n",
       "      <td>Female</td>\n",
       "      <td>United-States</td>\n",
       "      <td>&lt;=50K</td>\n",
       "    </tr>\n",
       "  </tbody>\n",
       "</table>\n",
       "</div>"
      ],
      "text/plain": [
       "              workclass     education      marital_status         occupation  \\\n",
       "14160           Private  Some-college            Divorced       Adm-clerical   \n",
       "27048         State-gov       HS-grad  Married-civ-spouse    Exec-managerial   \n",
       "28868           Private     Bachelors  Married-civ-spouse    Exec-managerial   \n",
       "5667            Private     Bachelors       Never-married  Machine-op-inspct   \n",
       "7827   Self-emp-not-inc  Some-college            Divorced       Craft-repair   \n",
       "15382           Private       Masters  Married-civ-spouse     Prof-specialty   \n",
       "4641   Self-emp-not-inc       HS-grad  Married-civ-spouse    Exec-managerial   \n",
       "8943            Private       HS-grad       Never-married       Adm-clerical   \n",
       "216             Private    Assoc-acdm            Divorced              Sales   \n",
       "5121            Private       HS-grad  Married-civ-spouse       Craft-repair   \n",
       "345    Self-emp-not-inc     Bachelors       Never-married              Sales   \n",
       "31900           Private       HS-grad            Divorced  Handlers-cleaners   \n",
       "20010           Private     Bachelors       Never-married     Prof-specialty   \n",
       "11808           Private       7th-8th  Married-civ-spouse     Prof-specialty   \n",
       "14587           Private  Some-college  Married-civ-spouse      Other-service   \n",
       "\n",
       "        relationship   race     sex native_country income  \n",
       "14160  Not-in-family  White  Female  United-States  <=50K  \n",
       "27048           Wife  White  Female  United-States  <=50K  \n",
       "28868        Husband  Black    Male  United-States   >50K  \n",
       "5667   Not-in-family  White  Female  United-States  <=50K  \n",
       "7827   Not-in-family  White    Male  United-States  <=50K  \n",
       "15382        Husband  White    Male  United-States   >50K  \n",
       "4641         Husband  White    Male  United-States   >50K  \n",
       "8943   Not-in-family  Other  Female  United-States  <=50K  \n",
       "216    Not-in-family  White  Female  United-States  <=50K  \n",
       "5121         Husband  White    Male  United-States   >50K  \n",
       "345    Not-in-family  White    Male  United-States  <=50K  \n",
       "31900  Not-in-family  White    Male  United-States  <=50K  \n",
       "20010  Not-in-family  White    Male  United-States   >50K  \n",
       "11808           Wife  White  Female  United-States  <=50K  \n",
       "14587           Wife  White  Female  United-States  <=50K  "
      ]
     },
     "execution_count": 50,
     "metadata": {},
     "output_type": "execute_result"
    }
   ],
   "source": [
    "data_cat.sample(15,random_state=42)"
   ]
  },
  {
   "cell_type": "code",
   "execution_count": 51,
   "id": "russian-dividend",
   "metadata": {},
   "outputs": [
    {
     "data": {
      "text/html": [
       "<div>\n",
       "<style scoped>\n",
       "    .dataframe tbody tr th:only-of-type {\n",
       "        vertical-align: middle;\n",
       "    }\n",
       "\n",
       "    .dataframe tbody tr th {\n",
       "        vertical-align: top;\n",
       "    }\n",
       "\n",
       "    .dataframe thead th {\n",
       "        text-align: right;\n",
       "    }\n",
       "</style>\n",
       "<table border=\"1\" class=\"dataframe\">\n",
       "  <thead>\n",
       "    <tr style=\"text-align: right;\">\n",
       "      <th></th>\n",
       "      <th>workclass</th>\n",
       "      <th>education</th>\n",
       "      <th>marital_status</th>\n",
       "      <th>occupation</th>\n",
       "      <th>relationship</th>\n",
       "      <th>race</th>\n",
       "      <th>sex</th>\n",
       "      <th>native_country</th>\n",
       "      <th>income</th>\n",
       "    </tr>\n",
       "  </thead>\n",
       "  <tbody>\n",
       "    <tr>\n",
       "      <th>14160</th>\n",
       "      <td>Private</td>\n",
       "      <td>Some-college</td>\n",
       "      <td>DSW</td>\n",
       "      <td>Adm-clerical</td>\n",
       "      <td>Not-in-family</td>\n",
       "      <td>White</td>\n",
       "      <td>Female</td>\n",
       "      <td>United-States</td>\n",
       "      <td>0</td>\n",
       "    </tr>\n",
       "    <tr>\n",
       "      <th>27048</th>\n",
       "      <td>State-gov</td>\n",
       "      <td>HS-grad</td>\n",
       "      <td>Married-civ-spouse</td>\n",
       "      <td>Exec-managerial</td>\n",
       "      <td>Wife</td>\n",
       "      <td>White</td>\n",
       "      <td>Female</td>\n",
       "      <td>United-States</td>\n",
       "      <td>0</td>\n",
       "    </tr>\n",
       "    <tr>\n",
       "      <th>28868</th>\n",
       "      <td>Private</td>\n",
       "      <td>Bachelors</td>\n",
       "      <td>Married-civ-spouse</td>\n",
       "      <td>Exec-managerial</td>\n",
       "      <td>Husband</td>\n",
       "      <td>Black</td>\n",
       "      <td>Male</td>\n",
       "      <td>United-States</td>\n",
       "      <td>1</td>\n",
       "    </tr>\n",
       "    <tr>\n",
       "      <th>5667</th>\n",
       "      <td>Private</td>\n",
       "      <td>Bachelors</td>\n",
       "      <td>Never-married</td>\n",
       "      <td>Machine-op-inspct</td>\n",
       "      <td>Not-in-family</td>\n",
       "      <td>White</td>\n",
       "      <td>Female</td>\n",
       "      <td>United-States</td>\n",
       "      <td>0</td>\n",
       "    </tr>\n",
       "    <tr>\n",
       "      <th>7827</th>\n",
       "      <td>Self-emp-not-inc</td>\n",
       "      <td>Some-college</td>\n",
       "      <td>DSW</td>\n",
       "      <td>Craft-repair</td>\n",
       "      <td>Not-in-family</td>\n",
       "      <td>White</td>\n",
       "      <td>Male</td>\n",
       "      <td>United-States</td>\n",
       "      <td>0</td>\n",
       "    </tr>\n",
       "    <tr>\n",
       "      <th>15382</th>\n",
       "      <td>Private</td>\n",
       "      <td>Masters</td>\n",
       "      <td>Married-civ-spouse</td>\n",
       "      <td>Prof-specialty</td>\n",
       "      <td>Husband</td>\n",
       "      <td>White</td>\n",
       "      <td>Male</td>\n",
       "      <td>United-States</td>\n",
       "      <td>1</td>\n",
       "    </tr>\n",
       "    <tr>\n",
       "      <th>4641</th>\n",
       "      <td>Self-emp-not-inc</td>\n",
       "      <td>HS-grad</td>\n",
       "      <td>Married-civ-spouse</td>\n",
       "      <td>Exec-managerial</td>\n",
       "      <td>Husband</td>\n",
       "      <td>White</td>\n",
       "      <td>Male</td>\n",
       "      <td>United-States</td>\n",
       "      <td>1</td>\n",
       "    </tr>\n",
       "    <tr>\n",
       "      <th>8943</th>\n",
       "      <td>Private</td>\n",
       "      <td>HS-grad</td>\n",
       "      <td>Never-married</td>\n",
       "      <td>Adm-clerical</td>\n",
       "      <td>Not-in-family</td>\n",
       "      <td>Other</td>\n",
       "      <td>Female</td>\n",
       "      <td>United-States</td>\n",
       "      <td>0</td>\n",
       "    </tr>\n",
       "    <tr>\n",
       "      <th>216</th>\n",
       "      <td>Private</td>\n",
       "      <td>Assoc-acdm</td>\n",
       "      <td>DSW</td>\n",
       "      <td>Sales</td>\n",
       "      <td>Not-in-family</td>\n",
       "      <td>White</td>\n",
       "      <td>Female</td>\n",
       "      <td>United-States</td>\n",
       "      <td>0</td>\n",
       "    </tr>\n",
       "    <tr>\n",
       "      <th>5121</th>\n",
       "      <td>Private</td>\n",
       "      <td>HS-grad</td>\n",
       "      <td>Married-civ-spouse</td>\n",
       "      <td>Craft-repair</td>\n",
       "      <td>Husband</td>\n",
       "      <td>White</td>\n",
       "      <td>Male</td>\n",
       "      <td>United-States</td>\n",
       "      <td>1</td>\n",
       "    </tr>\n",
       "    <tr>\n",
       "      <th>345</th>\n",
       "      <td>Self-emp-not-inc</td>\n",
       "      <td>Bachelors</td>\n",
       "      <td>Never-married</td>\n",
       "      <td>Sales</td>\n",
       "      <td>Not-in-family</td>\n",
       "      <td>White</td>\n",
       "      <td>Male</td>\n",
       "      <td>United-States</td>\n",
       "      <td>0</td>\n",
       "    </tr>\n",
       "    <tr>\n",
       "      <th>31900</th>\n",
       "      <td>Private</td>\n",
       "      <td>HS-grad</td>\n",
       "      <td>DSW</td>\n",
       "      <td>Handlers-cleaners</td>\n",
       "      <td>Not-in-family</td>\n",
       "      <td>White</td>\n",
       "      <td>Male</td>\n",
       "      <td>United-States</td>\n",
       "      <td>0</td>\n",
       "    </tr>\n",
       "    <tr>\n",
       "      <th>20010</th>\n",
       "      <td>Private</td>\n",
       "      <td>Bachelors</td>\n",
       "      <td>Never-married</td>\n",
       "      <td>Prof-specialty</td>\n",
       "      <td>Not-in-family</td>\n",
       "      <td>White</td>\n",
       "      <td>Male</td>\n",
       "      <td>United-States</td>\n",
       "      <td>1</td>\n",
       "    </tr>\n",
       "    <tr>\n",
       "      <th>11808</th>\n",
       "      <td>Private</td>\n",
       "      <td>Below_HS</td>\n",
       "      <td>Married-civ-spouse</td>\n",
       "      <td>Prof-specialty</td>\n",
       "      <td>Wife</td>\n",
       "      <td>White</td>\n",
       "      <td>Female</td>\n",
       "      <td>United-States</td>\n",
       "      <td>0</td>\n",
       "    </tr>\n",
       "    <tr>\n",
       "      <th>14587</th>\n",
       "      <td>Private</td>\n",
       "      <td>Some-college</td>\n",
       "      <td>Married-civ-spouse</td>\n",
       "      <td>Other-service</td>\n",
       "      <td>Wife</td>\n",
       "      <td>White</td>\n",
       "      <td>Female</td>\n",
       "      <td>United-States</td>\n",
       "      <td>0</td>\n",
       "    </tr>\n",
       "  </tbody>\n",
       "</table>\n",
       "</div>"
      ],
      "text/plain": [
       "              workclass     education      marital_status         occupation  \\\n",
       "14160           Private  Some-college                 DSW       Adm-clerical   \n",
       "27048         State-gov       HS-grad  Married-civ-spouse    Exec-managerial   \n",
       "28868           Private     Bachelors  Married-civ-spouse    Exec-managerial   \n",
       "5667            Private     Bachelors       Never-married  Machine-op-inspct   \n",
       "7827   Self-emp-not-inc  Some-college                 DSW       Craft-repair   \n",
       "15382           Private       Masters  Married-civ-spouse     Prof-specialty   \n",
       "4641   Self-emp-not-inc       HS-grad  Married-civ-spouse    Exec-managerial   \n",
       "8943            Private       HS-grad       Never-married       Adm-clerical   \n",
       "216             Private    Assoc-acdm                 DSW              Sales   \n",
       "5121            Private       HS-grad  Married-civ-spouse       Craft-repair   \n",
       "345    Self-emp-not-inc     Bachelors       Never-married              Sales   \n",
       "31900           Private       HS-grad                 DSW  Handlers-cleaners   \n",
       "20010           Private     Bachelors       Never-married     Prof-specialty   \n",
       "11808           Private      Below_HS  Married-civ-spouse     Prof-specialty   \n",
       "14587           Private  Some-college  Married-civ-spouse      Other-service   \n",
       "\n",
       "        relationship   race     sex native_country  income  \n",
       "14160  Not-in-family  White  Female  United-States       0  \n",
       "27048           Wife  White  Female  United-States       0  \n",
       "28868        Husband  Black    Male  United-States       1  \n",
       "5667   Not-in-family  White  Female  United-States       0  \n",
       "7827   Not-in-family  White    Male  United-States       0  \n",
       "15382        Husband  White    Male  United-States       1  \n",
       "4641         Husband  White    Male  United-States       1  \n",
       "8943   Not-in-family  Other  Female  United-States       0  \n",
       "216    Not-in-family  White  Female  United-States       0  \n",
       "5121         Husband  White    Male  United-States       1  \n",
       "345    Not-in-family  White    Male  United-States       0  \n",
       "31900  Not-in-family  White    Male  United-States       0  \n",
       "20010  Not-in-family  White    Male  United-States       1  \n",
       "11808           Wife  White  Female  United-States       0  \n",
       "14587           Wife  White  Female  United-States       0  "
      ]
     },
     "execution_count": 51,
     "metadata": {},
     "output_type": "execute_result"
    }
   ],
   "source": [
    "df_copycat.sample(15, random_state=42)"
   ]
  },
  {
   "cell_type": "markdown",
   "id": "herbal-dutch",
   "metadata": {},
   "source": [
    "### Dropping the unnecessary columns"
   ]
  },
  {
   "cell_type": "code",
   "execution_count": 52,
   "id": "graduate-rendering",
   "metadata": {},
   "outputs": [
    {
     "data": {
      "text/html": [
       "<div>\n",
       "<style scoped>\n",
       "    .dataframe tbody tr th:only-of-type {\n",
       "        vertical-align: middle;\n",
       "    }\n",
       "\n",
       "    .dataframe tbody tr th {\n",
       "        vertical-align: top;\n",
       "    }\n",
       "\n",
       "    .dataframe thead th {\n",
       "        text-align: right;\n",
       "    }\n",
       "</style>\n",
       "<table border=\"1\" class=\"dataframe\">\n",
       "  <thead>\n",
       "    <tr style=\"text-align: right;\">\n",
       "      <th></th>\n",
       "      <th>workclass</th>\n",
       "      <th>education</th>\n",
       "      <th>marital_status</th>\n",
       "      <th>occupation</th>\n",
       "      <th>relationship</th>\n",
       "      <th>race</th>\n",
       "      <th>sex</th>\n",
       "      <th>income</th>\n",
       "    </tr>\n",
       "  </thead>\n",
       "  <tbody>\n",
       "    <tr>\n",
       "      <th>14160</th>\n",
       "      <td>Private</td>\n",
       "      <td>Some-college</td>\n",
       "      <td>DSW</td>\n",
       "      <td>Adm-clerical</td>\n",
       "      <td>Not-in-family</td>\n",
       "      <td>White</td>\n",
       "      <td>Female</td>\n",
       "      <td>0</td>\n",
       "    </tr>\n",
       "    <tr>\n",
       "      <th>27048</th>\n",
       "      <td>State-gov</td>\n",
       "      <td>HS-grad</td>\n",
       "      <td>Married-civ-spouse</td>\n",
       "      <td>Exec-managerial</td>\n",
       "      <td>Wife</td>\n",
       "      <td>White</td>\n",
       "      <td>Female</td>\n",
       "      <td>0</td>\n",
       "    </tr>\n",
       "    <tr>\n",
       "      <th>28868</th>\n",
       "      <td>Private</td>\n",
       "      <td>Bachelors</td>\n",
       "      <td>Married-civ-spouse</td>\n",
       "      <td>Exec-managerial</td>\n",
       "      <td>Husband</td>\n",
       "      <td>Black</td>\n",
       "      <td>Male</td>\n",
       "      <td>1</td>\n",
       "    </tr>\n",
       "    <tr>\n",
       "      <th>5667</th>\n",
       "      <td>Private</td>\n",
       "      <td>Bachelors</td>\n",
       "      <td>Never-married</td>\n",
       "      <td>Machine-op-inspct</td>\n",
       "      <td>Not-in-family</td>\n",
       "      <td>White</td>\n",
       "      <td>Female</td>\n",
       "      <td>0</td>\n",
       "    </tr>\n",
       "    <tr>\n",
       "      <th>7827</th>\n",
       "      <td>Self-emp-not-inc</td>\n",
       "      <td>Some-college</td>\n",
       "      <td>DSW</td>\n",
       "      <td>Craft-repair</td>\n",
       "      <td>Not-in-family</td>\n",
       "      <td>White</td>\n",
       "      <td>Male</td>\n",
       "      <td>0</td>\n",
       "    </tr>\n",
       "    <tr>\n",
       "      <th>15382</th>\n",
       "      <td>Private</td>\n",
       "      <td>Masters</td>\n",
       "      <td>Married-civ-spouse</td>\n",
       "      <td>Prof-specialty</td>\n",
       "      <td>Husband</td>\n",
       "      <td>White</td>\n",
       "      <td>Male</td>\n",
       "      <td>1</td>\n",
       "    </tr>\n",
       "    <tr>\n",
       "      <th>4641</th>\n",
       "      <td>Self-emp-not-inc</td>\n",
       "      <td>HS-grad</td>\n",
       "      <td>Married-civ-spouse</td>\n",
       "      <td>Exec-managerial</td>\n",
       "      <td>Husband</td>\n",
       "      <td>White</td>\n",
       "      <td>Male</td>\n",
       "      <td>1</td>\n",
       "    </tr>\n",
       "    <tr>\n",
       "      <th>8943</th>\n",
       "      <td>Private</td>\n",
       "      <td>HS-grad</td>\n",
       "      <td>Never-married</td>\n",
       "      <td>Adm-clerical</td>\n",
       "      <td>Not-in-family</td>\n",
       "      <td>Other</td>\n",
       "      <td>Female</td>\n",
       "      <td>0</td>\n",
       "    </tr>\n",
       "    <tr>\n",
       "      <th>216</th>\n",
       "      <td>Private</td>\n",
       "      <td>Assoc-acdm</td>\n",
       "      <td>DSW</td>\n",
       "      <td>Sales</td>\n",
       "      <td>Not-in-family</td>\n",
       "      <td>White</td>\n",
       "      <td>Female</td>\n",
       "      <td>0</td>\n",
       "    </tr>\n",
       "    <tr>\n",
       "      <th>5121</th>\n",
       "      <td>Private</td>\n",
       "      <td>HS-grad</td>\n",
       "      <td>Married-civ-spouse</td>\n",
       "      <td>Craft-repair</td>\n",
       "      <td>Husband</td>\n",
       "      <td>White</td>\n",
       "      <td>Male</td>\n",
       "      <td>1</td>\n",
       "    </tr>\n",
       "    <tr>\n",
       "      <th>345</th>\n",
       "      <td>Self-emp-not-inc</td>\n",
       "      <td>Bachelors</td>\n",
       "      <td>Never-married</td>\n",
       "      <td>Sales</td>\n",
       "      <td>Not-in-family</td>\n",
       "      <td>White</td>\n",
       "      <td>Male</td>\n",
       "      <td>0</td>\n",
       "    </tr>\n",
       "    <tr>\n",
       "      <th>31900</th>\n",
       "      <td>Private</td>\n",
       "      <td>HS-grad</td>\n",
       "      <td>DSW</td>\n",
       "      <td>Handlers-cleaners</td>\n",
       "      <td>Not-in-family</td>\n",
       "      <td>White</td>\n",
       "      <td>Male</td>\n",
       "      <td>0</td>\n",
       "    </tr>\n",
       "    <tr>\n",
       "      <th>20010</th>\n",
       "      <td>Private</td>\n",
       "      <td>Bachelors</td>\n",
       "      <td>Never-married</td>\n",
       "      <td>Prof-specialty</td>\n",
       "      <td>Not-in-family</td>\n",
       "      <td>White</td>\n",
       "      <td>Male</td>\n",
       "      <td>1</td>\n",
       "    </tr>\n",
       "    <tr>\n",
       "      <th>11808</th>\n",
       "      <td>Private</td>\n",
       "      <td>Below_HS</td>\n",
       "      <td>Married-civ-spouse</td>\n",
       "      <td>Prof-specialty</td>\n",
       "      <td>Wife</td>\n",
       "      <td>White</td>\n",
       "      <td>Female</td>\n",
       "      <td>0</td>\n",
       "    </tr>\n",
       "    <tr>\n",
       "      <th>14587</th>\n",
       "      <td>Private</td>\n",
       "      <td>Some-college</td>\n",
       "      <td>Married-civ-spouse</td>\n",
       "      <td>Other-service</td>\n",
       "      <td>Wife</td>\n",
       "      <td>White</td>\n",
       "      <td>Female</td>\n",
       "      <td>0</td>\n",
       "    </tr>\n",
       "  </tbody>\n",
       "</table>\n",
       "</div>"
      ],
      "text/plain": [
       "              workclass     education      marital_status         occupation  \\\n",
       "14160           Private  Some-college                 DSW       Adm-clerical   \n",
       "27048         State-gov       HS-grad  Married-civ-spouse    Exec-managerial   \n",
       "28868           Private     Bachelors  Married-civ-spouse    Exec-managerial   \n",
       "5667            Private     Bachelors       Never-married  Machine-op-inspct   \n",
       "7827   Self-emp-not-inc  Some-college                 DSW       Craft-repair   \n",
       "15382           Private       Masters  Married-civ-spouse     Prof-specialty   \n",
       "4641   Self-emp-not-inc       HS-grad  Married-civ-spouse    Exec-managerial   \n",
       "8943            Private       HS-grad       Never-married       Adm-clerical   \n",
       "216             Private    Assoc-acdm                 DSW              Sales   \n",
       "5121            Private       HS-grad  Married-civ-spouse       Craft-repair   \n",
       "345    Self-emp-not-inc     Bachelors       Never-married              Sales   \n",
       "31900           Private       HS-grad                 DSW  Handlers-cleaners   \n",
       "20010           Private     Bachelors       Never-married     Prof-specialty   \n",
       "11808           Private      Below_HS  Married-civ-spouse     Prof-specialty   \n",
       "14587           Private  Some-college  Married-civ-spouse      Other-service   \n",
       "\n",
       "        relationship   race     sex  income  \n",
       "14160  Not-in-family  White  Female       0  \n",
       "27048           Wife  White  Female       0  \n",
       "28868        Husband  Black    Male       1  \n",
       "5667   Not-in-family  White  Female       0  \n",
       "7827   Not-in-family  White    Male       0  \n",
       "15382        Husband  White    Male       1  \n",
       "4641         Husband  White    Male       1  \n",
       "8943   Not-in-family  Other  Female       0  \n",
       "216    Not-in-family  White  Female       0  \n",
       "5121         Husband  White    Male       1  \n",
       "345    Not-in-family  White    Male       0  \n",
       "31900  Not-in-family  White    Male       0  \n",
       "20010  Not-in-family  White    Male       1  \n",
       "11808           Wife  White  Female       0  \n",
       "14587           Wife  White  Female       0  "
      ]
     },
     "execution_count": 52,
     "metadata": {},
     "output_type": "execute_result"
    }
   ],
   "source": [
    "df_copycat = df_copycat.drop(columns=drop_col_cat)\n",
    "\n",
    "df_copycat.sample(15,random_state=42)"
   ]
  },
  {
   "cell_type": "code",
   "execution_count": null,
   "id": "involved-judgment",
   "metadata": {},
   "outputs": [],
   "source": []
  },
  {
   "cell_type": "markdown",
   "id": "about-renaissance",
   "metadata": {},
   "source": [
    "## Building the model"
   ]
  },
  {
   "cell_type": "code",
   "execution_count": 59,
   "id": "czech-lingerie",
   "metadata": {},
   "outputs": [
    {
     "data": {
      "text/html": [
       "<div>\n",
       "<style scoped>\n",
       "    .dataframe tbody tr th:only-of-type {\n",
       "        vertical-align: middle;\n",
       "    }\n",
       "\n",
       "    .dataframe tbody tr th {\n",
       "        vertical-align: top;\n",
       "    }\n",
       "\n",
       "    .dataframe thead th {\n",
       "        text-align: right;\n",
       "    }\n",
       "</style>\n",
       "<table border=\"1\" class=\"dataframe\">\n",
       "  <thead>\n",
       "    <tr style=\"text-align: right;\">\n",
       "      <th></th>\n",
       "      <th>workclass</th>\n",
       "      <th>education</th>\n",
       "      <th>marital_status</th>\n",
       "      <th>occupation</th>\n",
       "      <th>relationship</th>\n",
       "      <th>race</th>\n",
       "      <th>sex</th>\n",
       "      <th>income</th>\n",
       "      <th>age</th>\n",
       "      <th>fnlwgt</th>\n",
       "      <th>education_num</th>\n",
       "      <th>capital_gain</th>\n",
       "      <th>capital_loss</th>\n",
       "      <th>hours_per_week</th>\n",
       "    </tr>\n",
       "  </thead>\n",
       "  <tbody>\n",
       "    <tr>\n",
       "      <th>14160</th>\n",
       "      <td>Private</td>\n",
       "      <td>Some-college</td>\n",
       "      <td>DSW</td>\n",
       "      <td>Adm-clerical</td>\n",
       "      <td>Not-in-family</td>\n",
       "      <td>White</td>\n",
       "      <td>Female</td>\n",
       "      <td>0</td>\n",
       "      <td>27</td>\n",
       "      <td>160178</td>\n",
       "      <td>10</td>\n",
       "      <td>0</td>\n",
       "      <td>0</td>\n",
       "      <td>38</td>\n",
       "    </tr>\n",
       "    <tr>\n",
       "      <th>27048</th>\n",
       "      <td>State-gov</td>\n",
       "      <td>HS-grad</td>\n",
       "      <td>Married-civ-spouse</td>\n",
       "      <td>Exec-managerial</td>\n",
       "      <td>Wife</td>\n",
       "      <td>White</td>\n",
       "      <td>Female</td>\n",
       "      <td>0</td>\n",
       "      <td>45</td>\n",
       "      <td>50567</td>\n",
       "      <td>9</td>\n",
       "      <td>0</td>\n",
       "      <td>0</td>\n",
       "      <td>40</td>\n",
       "    </tr>\n",
       "    <tr>\n",
       "      <th>28868</th>\n",
       "      <td>Private</td>\n",
       "      <td>Bachelors</td>\n",
       "      <td>Married-civ-spouse</td>\n",
       "      <td>Exec-managerial</td>\n",
       "      <td>Husband</td>\n",
       "      <td>Black</td>\n",
       "      <td>Male</td>\n",
       "      <td>1</td>\n",
       "      <td>29</td>\n",
       "      <td>185908</td>\n",
       "      <td>13</td>\n",
       "      <td>0</td>\n",
       "      <td>0</td>\n",
       "      <td>55</td>\n",
       "    </tr>\n",
       "    <tr>\n",
       "      <th>5667</th>\n",
       "      <td>Private</td>\n",
       "      <td>Bachelors</td>\n",
       "      <td>Never-married</td>\n",
       "      <td>Machine-op-inspct</td>\n",
       "      <td>Not-in-family</td>\n",
       "      <td>White</td>\n",
       "      <td>Female</td>\n",
       "      <td>0</td>\n",
       "      <td>30</td>\n",
       "      <td>190040</td>\n",
       "      <td>13</td>\n",
       "      <td>0</td>\n",
       "      <td>0</td>\n",
       "      <td>40</td>\n",
       "    </tr>\n",
       "    <tr>\n",
       "      <th>7827</th>\n",
       "      <td>Self-emp-not-inc</td>\n",
       "      <td>Some-college</td>\n",
       "      <td>DSW</td>\n",
       "      <td>Craft-repair</td>\n",
       "      <td>Not-in-family</td>\n",
       "      <td>White</td>\n",
       "      <td>Male</td>\n",
       "      <td>0</td>\n",
       "      <td>29</td>\n",
       "      <td>189346</td>\n",
       "      <td>10</td>\n",
       "      <td>2202</td>\n",
       "      <td>0</td>\n",
       "      <td>50</td>\n",
       "    </tr>\n",
       "    <tr>\n",
       "      <th>15382</th>\n",
       "      <td>Private</td>\n",
       "      <td>Masters</td>\n",
       "      <td>Married-civ-spouse</td>\n",
       "      <td>Prof-specialty</td>\n",
       "      <td>Husband</td>\n",
       "      <td>White</td>\n",
       "      <td>Male</td>\n",
       "      <td>1</td>\n",
       "      <td>51</td>\n",
       "      <td>108435</td>\n",
       "      <td>14</td>\n",
       "      <td>0</td>\n",
       "      <td>0</td>\n",
       "      <td>47</td>\n",
       "    </tr>\n",
       "    <tr>\n",
       "      <th>4641</th>\n",
       "      <td>Self-emp-not-inc</td>\n",
       "      <td>HS-grad</td>\n",
       "      <td>Married-civ-spouse</td>\n",
       "      <td>Exec-managerial</td>\n",
       "      <td>Husband</td>\n",
       "      <td>White</td>\n",
       "      <td>Male</td>\n",
       "      <td>1</td>\n",
       "      <td>58</td>\n",
       "      <td>93664</td>\n",
       "      <td>9</td>\n",
       "      <td>15024</td>\n",
       "      <td>0</td>\n",
       "      <td>60</td>\n",
       "    </tr>\n",
       "    <tr>\n",
       "      <th>8943</th>\n",
       "      <td>Private</td>\n",
       "      <td>HS-grad</td>\n",
       "      <td>Never-married</td>\n",
       "      <td>Adm-clerical</td>\n",
       "      <td>Not-in-family</td>\n",
       "      <td>Other</td>\n",
       "      <td>Female</td>\n",
       "      <td>0</td>\n",
       "      <td>22</td>\n",
       "      <td>148431</td>\n",
       "      <td>9</td>\n",
       "      <td>0</td>\n",
       "      <td>0</td>\n",
       "      <td>40</td>\n",
       "    </tr>\n",
       "    <tr>\n",
       "      <th>216</th>\n",
       "      <td>Private</td>\n",
       "      <td>Assoc-acdm</td>\n",
       "      <td>DSW</td>\n",
       "      <td>Sales</td>\n",
       "      <td>Not-in-family</td>\n",
       "      <td>White</td>\n",
       "      <td>Female</td>\n",
       "      <td>0</td>\n",
       "      <td>50</td>\n",
       "      <td>313321</td>\n",
       "      <td>12</td>\n",
       "      <td>0</td>\n",
       "      <td>0</td>\n",
       "      <td>40</td>\n",
       "    </tr>\n",
       "    <tr>\n",
       "      <th>5121</th>\n",
       "      <td>Private</td>\n",
       "      <td>HS-grad</td>\n",
       "      <td>Married-civ-spouse</td>\n",
       "      <td>Craft-repair</td>\n",
       "      <td>Husband</td>\n",
       "      <td>White</td>\n",
       "      <td>Male</td>\n",
       "      <td>1</td>\n",
       "      <td>50</td>\n",
       "      <td>71417</td>\n",
       "      <td>9</td>\n",
       "      <td>3103</td>\n",
       "      <td>0</td>\n",
       "      <td>40</td>\n",
       "    </tr>\n",
       "  </tbody>\n",
       "</table>\n",
       "</div>"
      ],
      "text/plain": [
       "              workclass     education      marital_status         occupation  \\\n",
       "14160           Private  Some-college                 DSW       Adm-clerical   \n",
       "27048         State-gov       HS-grad  Married-civ-spouse    Exec-managerial   \n",
       "28868           Private     Bachelors  Married-civ-spouse    Exec-managerial   \n",
       "5667            Private     Bachelors       Never-married  Machine-op-inspct   \n",
       "7827   Self-emp-not-inc  Some-college                 DSW       Craft-repair   \n",
       "15382           Private       Masters  Married-civ-spouse     Prof-specialty   \n",
       "4641   Self-emp-not-inc       HS-grad  Married-civ-spouse    Exec-managerial   \n",
       "8943            Private       HS-grad       Never-married       Adm-clerical   \n",
       "216             Private    Assoc-acdm                 DSW              Sales   \n",
       "5121            Private       HS-grad  Married-civ-spouse       Craft-repair   \n",
       "\n",
       "        relationship   race     sex  income  age  fnlwgt  education_num  \\\n",
       "14160  Not-in-family  White  Female       0   27  160178             10   \n",
       "27048           Wife  White  Female       0   45   50567              9   \n",
       "28868        Husband  Black    Male       1   29  185908             13   \n",
       "5667   Not-in-family  White  Female       0   30  190040             13   \n",
       "7827   Not-in-family  White    Male       0   29  189346             10   \n",
       "15382        Husband  White    Male       1   51  108435             14   \n",
       "4641         Husband  White    Male       1   58   93664              9   \n",
       "8943   Not-in-family  Other  Female       0   22  148431              9   \n",
       "216    Not-in-family  White  Female       0   50  313321             12   \n",
       "5121         Husband  White    Male       1   50   71417              9   \n",
       "\n",
       "       capital_gain  capital_loss  hours_per_week  \n",
       "14160             0             0              38  \n",
       "27048             0             0              40  \n",
       "28868             0             0              55  \n",
       "5667              0             0              40  \n",
       "7827           2202             0              50  \n",
       "15382             0             0              47  \n",
       "4641          15024             0              60  \n",
       "8943              0             0              40  \n",
       "216               0             0              40  \n",
       "5121           3103             0              40  "
      ]
     },
     "execution_count": 59,
     "metadata": {},
     "output_type": "execute_result"
    }
   ],
   "source": [
    "df = pd.concat([df_copycat,data_num],axis=1)\n",
    "df.sample(10, random_state=42)"
   ]
  },
  {
   "cell_type": "markdown",
   "id": "peripheral-possibility",
   "metadata": {},
   "source": [
    "### Transformers and creating training, validation sets"
   ]
  },
  {
   "cell_type": "code",
   "execution_count": 60,
   "id": "general-exception",
   "metadata": {},
   "outputs": [],
   "source": [
    "from sklearn.preprocessing import OneHotEncoder\n",
    "from sklearn.preprocessing import RobustScaler\n",
    "from sklearn.compose import ColumnTransformer\n",
    "\n",
    "features_num = ['age', 'fnlwgt', 'education_num', 'capital_gain', 'capital_loss', 'hours_per_week']\n",
    "features_cat = ['workclass', 'education', 'marital_status', 'occupation', 'relationship', 'race', 'sex']"
   ]
  },
  {
   "cell_type": "code",
   "execution_count": 61,
   "id": "limited-public",
   "metadata": {},
   "outputs": [],
   "source": [
    "transformer = ColumnTransformer(transformers=[('OneHotEncoder', OneHotEncoder(), features_cat), \n",
    "                                              ('RobustScaler', RobustScaler(), features_num)], \n",
    "                                              remainder='passthrough', sparse_threshold=0)"
   ]
  },
  {
   "cell_type": "code",
   "execution_count": 62,
   "id": "initial-notion",
   "metadata": {},
   "outputs": [],
   "source": [
    "from sklearn.model_selection import train_test_split\n",
    "x_train, x_val, y_train, y_val = train_test_split(df.drop(columns=['income']), df['income'], test_size=0.1)"
   ]
  },
  {
   "cell_type": "code",
   "execution_count": 63,
   "id": "single-amino",
   "metadata": {},
   "outputs": [
    {
     "data": {
      "text/html": [
       "<div>\n",
       "<style scoped>\n",
       "    .dataframe tbody tr th:only-of-type {\n",
       "        vertical-align: middle;\n",
       "    }\n",
       "\n",
       "    .dataframe tbody tr th {\n",
       "        vertical-align: top;\n",
       "    }\n",
       "\n",
       "    .dataframe thead th {\n",
       "        text-align: right;\n",
       "    }\n",
       "</style>\n",
       "<table border=\"1\" class=\"dataframe\">\n",
       "  <thead>\n",
       "    <tr style=\"text-align: right;\">\n",
       "      <th></th>\n",
       "      <th>workclass</th>\n",
       "      <th>education</th>\n",
       "      <th>marital_status</th>\n",
       "      <th>occupation</th>\n",
       "      <th>relationship</th>\n",
       "      <th>race</th>\n",
       "      <th>sex</th>\n",
       "      <th>age</th>\n",
       "      <th>fnlwgt</th>\n",
       "      <th>education_num</th>\n",
       "      <th>capital_gain</th>\n",
       "      <th>capital_loss</th>\n",
       "      <th>hours_per_week</th>\n",
       "    </tr>\n",
       "  </thead>\n",
       "  <tbody>\n",
       "    <tr>\n",
       "      <th>27828</th>\n",
       "      <td>Self-emp-not-inc</td>\n",
       "      <td>HS-grad</td>\n",
       "      <td>MSA_AF</td>\n",
       "      <td>Other-service</td>\n",
       "      <td>Unmarried</td>\n",
       "      <td>Black</td>\n",
       "      <td>Female</td>\n",
       "      <td>37</td>\n",
       "      <td>286146</td>\n",
       "      <td>9</td>\n",
       "      <td>0</td>\n",
       "      <td>0</td>\n",
       "      <td>40</td>\n",
       "    </tr>\n",
       "    <tr>\n",
       "      <th>4762</th>\n",
       "      <td>Private</td>\n",
       "      <td>Some-college</td>\n",
       "      <td>Never-married</td>\n",
       "      <td>Adm-clerical</td>\n",
       "      <td>Not-in-family</td>\n",
       "      <td>White</td>\n",
       "      <td>Female</td>\n",
       "      <td>31</td>\n",
       "      <td>315128</td>\n",
       "      <td>10</td>\n",
       "      <td>0</td>\n",
       "      <td>0</td>\n",
       "      <td>52</td>\n",
       "    </tr>\n",
       "    <tr>\n",
       "      <th>28305</th>\n",
       "      <td>Private</td>\n",
       "      <td>HS-grad</td>\n",
       "      <td>DSW</td>\n",
       "      <td>Machine-op-inspct</td>\n",
       "      <td>Not-in-family</td>\n",
       "      <td>White</td>\n",
       "      <td>Male</td>\n",
       "      <td>38</td>\n",
       "      <td>241962</td>\n",
       "      <td>9</td>\n",
       "      <td>0</td>\n",
       "      <td>0</td>\n",
       "      <td>40</td>\n",
       "    </tr>\n",
       "  </tbody>\n",
       "</table>\n",
       "</div>"
      ],
      "text/plain": [
       "              workclass     education marital_status         occupation  \\\n",
       "27828  Self-emp-not-inc       HS-grad         MSA_AF      Other-service   \n",
       "4762            Private  Some-college  Never-married       Adm-clerical   \n",
       "28305           Private       HS-grad            DSW  Machine-op-inspct   \n",
       "\n",
       "        relationship   race     sex  age  fnlwgt  education_num  capital_gain  \\\n",
       "27828      Unmarried  Black  Female   37  286146              9             0   \n",
       "4762   Not-in-family  White  Female   31  315128             10             0   \n",
       "28305  Not-in-family  White    Male   38  241962              9             0   \n",
       "\n",
       "       capital_loss  hours_per_week  \n",
       "27828             0              40  \n",
       "4762              0              52  \n",
       "28305             0              40  "
      ]
     },
     "execution_count": 63,
     "metadata": {},
     "output_type": "execute_result"
    }
   ],
   "source": [
    "x_train.sample(3)"
   ]
  },
  {
   "cell_type": "code",
   "execution_count": 64,
   "id": "otherwise-standard",
   "metadata": {},
   "outputs": [],
   "source": [
    "x_train_transformed = transformer.fit_transform(x_train)\n",
    "x_val_transformed = transformer.transform(x_val)"
   ]
  },
  {
   "cell_type": "code",
   "execution_count": 65,
   "id": "political-intro",
   "metadata": {},
   "outputs": [],
   "source": [
    "from sklearn.ensemble import RandomForestClassifier\n",
    "clf_rndforest = RandomForestClassifier(n_estimators=100)"
   ]
  },
  {
   "cell_type": "code",
   "execution_count": 66,
   "id": "national-salon",
   "metadata": {},
   "outputs": [
    {
     "data": {
      "text/plain": [
       "RandomForestClassifier()"
      ]
     },
     "execution_count": 66,
     "metadata": {},
     "output_type": "execute_result"
    }
   ],
   "source": [
    "clf_rndforest.fit(x_train_transformed, y_train)"
   ]
  },
  {
   "cell_type": "code",
   "execution_count": 67,
   "id": "associate-lucas",
   "metadata": {},
   "outputs": [],
   "source": [
    "y_pred = clf_rndforest.predict(x_val_transformed)"
   ]
  },
  {
   "cell_type": "code",
   "execution_count": 68,
   "id": "religious-happiness",
   "metadata": {},
   "outputs": [
    {
     "data": {
      "text/plain": [
       "0.8467915259441203"
      ]
     },
     "execution_count": 68,
     "metadata": {},
     "output_type": "execute_result"
    }
   ],
   "source": [
    "clf_rndforest.score(x_val_transformed, y_val)"
   ]
  },
  {
   "cell_type": "code",
   "execution_count": 69,
   "id": "civic-hospital",
   "metadata": {},
   "outputs": [],
   "source": [
    "from imblearn.combine import SMOTETomek\n",
    "smote = SMOTETomek()"
   ]
  },
  {
   "cell_type": "code",
   "execution_count": 70,
   "id": "micro-mandate",
   "metadata": {},
   "outputs": [],
   "source": [
    "x_resampled, y_resampled = smote.fit_resample(x_train_transformed, y_train)"
   ]
  },
  {
   "cell_type": "code",
   "execution_count": 71,
   "id": "ranking-lighter",
   "metadata": {},
   "outputs": [
    {
     "data": {
      "text/plain": [
       "RandomForestClassifier()"
      ]
     },
     "execution_count": 71,
     "metadata": {},
     "output_type": "execute_result"
    }
   ],
   "source": [
    "clf_rndforest1 = RandomForestClassifier(n_estimators=100)\n",
    "clf_rndforest1.fit(x_resampled, y_resampled)"
   ]
  },
  {
   "cell_type": "code",
   "execution_count": 72,
   "id": "tested-denial",
   "metadata": {},
   "outputs": [
    {
     "data": {
      "text/plain": [
       "0.8415719987718759"
      ]
     },
     "execution_count": 72,
     "metadata": {},
     "output_type": "execute_result"
    }
   ],
   "source": [
    "clf_rndforest1.score(x_val_transformed, y_val)"
   ]
  },
  {
   "cell_type": "code",
   "execution_count": 73,
   "id": "favorite-juvenile",
   "metadata": {
    "scrolled": false
   },
   "outputs": [
    {
     "name": "stdout",
     "output_type": "stream",
     "text": [
      "pca n_comp=5, Score=  0.8259134172551428\n",
      "              precision    recall  f1-score   support\n",
      "\n",
      "           0       0.92      0.85      0.88      2480\n",
      "           1       0.61      0.76      0.68       777\n",
      "\n",
      "    accuracy                           0.83      3257\n",
      "   macro avg       0.76      0.80      0.78      3257\n",
      "weighted avg       0.84      0.83      0.83      3257\n",
      "\n",
      "pca n_comp=10, Score=  0.8311329444273872\n",
      "              precision    recall  f1-score   support\n",
      "\n",
      "           0       0.92      0.85      0.89      2480\n",
      "           1       0.62      0.76      0.68       777\n",
      "\n",
      "    accuracy                           0.83      3257\n",
      "   macro avg       0.77      0.81      0.78      3257\n",
      "weighted avg       0.85      0.83      0.84      3257\n",
      "\n",
      "pca n_comp=15, Score=  0.8305188824071231\n",
      "              precision    recall  f1-score   support\n",
      "\n",
      "           0       0.91      0.86      0.89      2480\n",
      "           1       0.62      0.74      0.68       777\n",
      "\n",
      "    accuracy                           0.83      3257\n",
      "   macro avg       0.77      0.80      0.78      3257\n",
      "weighted avg       0.84      0.83      0.84      3257\n",
      "\n",
      "pca n_comp=20, Score=  0.8354313785692354\n",
      "              precision    recall  f1-score   support\n",
      "\n",
      "           0       0.91      0.86      0.89      2480\n",
      "           1       0.63      0.74      0.68       777\n",
      "\n",
      "    accuracy                           0.84      3257\n",
      "   macro avg       0.77      0.80      0.79      3257\n",
      "weighted avg       0.85      0.84      0.84      3257\n",
      "\n",
      "pca n_comp=25, Score=  0.8378876266502917\n",
      "              precision    recall  f1-score   support\n",
      "\n",
      "           0       0.91      0.87      0.89      2480\n",
      "           1       0.64      0.73      0.68       777\n",
      "\n",
      "    accuracy                           0.84      3257\n",
      "   macro avg       0.78      0.80      0.79      3257\n",
      "weighted avg       0.85      0.84      0.84      3257\n",
      "\n",
      "pca n_comp=30, Score=  0.8369665336198956\n",
      "              precision    recall  f1-score   support\n",
      "\n",
      "           0       0.91      0.87      0.89      2480\n",
      "           1       0.64      0.72      0.68       777\n",
      "\n",
      "    accuracy                           0.84      3257\n",
      "   macro avg       0.77      0.80      0.78      3257\n",
      "weighted avg       0.84      0.84      0.84      3257\n",
      "\n",
      "pca n_comp=35, Score=  0.8335891925084433\n",
      "              precision    recall  f1-score   support\n",
      "\n",
      "           0       0.91      0.87      0.89      2480\n",
      "           1       0.63      0.71      0.67       777\n",
      "\n",
      "    accuracy                           0.83      3257\n",
      "   macro avg       0.77      0.79      0.78      3257\n",
      "weighted avg       0.84      0.83      0.84      3257\n",
      "\n",
      "pca n_comp=40, Score=  0.8345102855388394\n",
      "              precision    recall  f1-score   support\n",
      "\n",
      "           0       0.90      0.88      0.89      2480\n",
      "           1       0.64      0.70      0.67       777\n",
      "\n",
      "    accuracy                           0.83      3257\n",
      "   macro avg       0.77      0.79      0.78      3257\n",
      "weighted avg       0.84      0.83      0.84      3257\n",
      "\n",
      "pca n_comp=45, Score=  0.8360454405894996\n",
      "              precision    recall  f1-score   support\n",
      "\n",
      "           0       0.91      0.88      0.89      2480\n",
      "           1       0.64      0.71      0.67       777\n",
      "\n",
      "    accuracy                           0.84      3257\n",
      "   macro avg       0.77      0.79      0.78      3257\n",
      "weighted avg       0.84      0.84      0.84      3257\n",
      "\n",
      "pca n_comp=50, Score=  0.8397298127110838\n",
      "              precision    recall  f1-score   support\n",
      "\n",
      "           0       0.91      0.88      0.89      2480\n",
      "           1       0.65      0.71      0.68       777\n",
      "\n",
      "    accuracy                           0.84      3257\n",
      "   macro avg       0.78      0.80      0.79      3257\n",
      "weighted avg       0.85      0.84      0.84      3257\n",
      "\n",
      "pca n_comp=54, Score=  0.8342032545287074\n",
      "              precision    recall  f1-score   support\n",
      "\n",
      "           0       0.90      0.88      0.89      2480\n",
      "           1       0.64      0.70      0.67       777\n",
      "\n",
      "    accuracy                           0.83      3257\n",
      "   macro avg       0.77      0.79      0.78      3257\n",
      "weighted avg       0.84      0.83      0.84      3257\n",
      "\n"
     ]
    }
   ],
   "source": [
    "from sklearn.decomposition import PCA\n",
    "n_components = [5,10,15,20,25,30,35,40,45,50,54]\n",
    "\n",
    "for i in n_components:\n",
    "    pca = PCA(n_components=i)\n",
    "    xtrain_pca = pca.fit_transform(x_resampled)\n",
    "    xval_pca = pca.transform(x_val_transformed)\n",
    "    \n",
    "    clf_rnd = RandomForestClassifier(n_estimators=100)\n",
    "    clf_rnd.fit(xtrain_pca, y_resampled)\n",
    "    print('pca n_comp='+str(i)+', Score= ',clf_rnd.score(xval_pca,y_val))\n",
    "    \n",
    "    print(classification_report(y_val, clf_rnd.predict(xval_pca)))"
   ]
  },
  {
   "cell_type": "code",
   "execution_count": 74,
   "id": "august-victim",
   "metadata": {},
   "outputs": [
    {
     "name": "stdout",
     "output_type": "stream",
     "text": [
      "pca n_comp=30, Score=  0.8326680994780473\n",
      "              precision    recall  f1-score   support\n",
      "\n",
      "           0       0.90      0.87      0.89      2480\n",
      "           1       0.63      0.71      0.67       777\n",
      "\n",
      "    accuracy                           0.83      3257\n",
      "   macro avg       0.77      0.79      0.78      3257\n",
      "weighted avg       0.84      0.83      0.84      3257\n",
      "\n"
     ]
    },
    {
     "data": {
      "image/png": "[encoded data removed]",
      "text/plain": [
       "<Figure size 432x288 with 1 Axes>"
      ]
     },
     "metadata": {},
     "output_type": "display_data"
    }
   ],
   "source": [
    "pca = PCA(n_components=30)\n",
    "xtrain_pca = pca.fit_transform(x_resampled)\n",
    "xval_pca = pca.transform(x_val_transformed)\n",
    "\n",
    "clf_rnd = RandomForestClassifier(n_estimators=100)\n",
    "clf_rnd.fit(xtrain_pca, y_resampled)\n",
    "\n",
    "print('pca n_comp=30, Score= ',clf_rnd.score(xval_pca,y_val))\n",
    "\n",
    "fpr, tpr, threshold = roc_curve(y_val, clf_rnd.predict_proba(xval_pca)[:,1])\n",
    "\n",
    "plt.plot([0,1],[0,1], linestyle = '--')\n",
    "plt.plot(fpr, tpr)\n",
    "roc_auc_score(y_val, clf_rnd.predict_proba(xval_pca)[:,1])\n",
    "\n",
    "print(classification_report(y_val, clf_rnd.predict(xval_pca)))"
   ]
  },
  {
   "cell_type": "code",
   "execution_count": 75,
   "id": "fatty-duncan",
   "metadata": {},
   "outputs": [
    {
     "name": "stdout",
     "output_type": "stream",
     "text": [
      "              precision    recall  f1-score   support\n",
      "\n",
      "           0       0.90      0.87      0.89      2480\n",
      "           1       0.63      0.71      0.67       777\n",
      "\n",
      "    accuracy                           0.83      3257\n",
      "   macro avg       0.77      0.79      0.78      3257\n",
      "weighted avg       0.84      0.83      0.84      3257\n",
      "\n"
     ]
    }
   ],
   "source": [
    "print(classification_report(y_val, clf_rnd.predict(xval_pca)))"
   ]
  },
  {
   "cell_type": "code",
   "execution_count": 76,
   "id": "educational-portland",
   "metadata": {},
   "outputs": [
    {
     "data": {
      "text/plain": [
       "<AxesSubplot:>"
      ]
     },
     "execution_count": 76,
     "metadata": {},
     "output_type": "execute_result"
    },
    {
     "data": {
      "image/png": "[encoded data removed]",
      "text/plain": [
       "<Figure size 432x288 with 2 Axes>"
      ]
     },
     "metadata": {},
     "output_type": "display_data"
    }
   ],
   "source": [
    "sns.set_style(style='darkgrid')\n",
    "cm = confusion_matrix(y_val, clf_rnd.predict(xval_pca))\n",
    "sns.heatmap(cm, annot=True, fmt='.5g')"
   ]
  },
  {
   "cell_type": "markdown",
   "id": "lasting-canal",
   "metadata": {},
   "source": [
    "### GBM"
   ]
  },
  {
   "cell_type": "code",
   "execution_count": null,
   "id": "monetary-newcastle",
   "metadata": {},
   "outputs": [],
   "source": []
  },
  {
   "cell_type": "code",
   "execution_count": 78,
   "id": "victorian-overhead",
   "metadata": {},
   "outputs": [
    {
     "name": "stdout",
     "output_type": "stream",
     "text": [
      "pca n_comp=5, Score=  0.7936751611912803\n",
      "              precision    recall  f1-score   support\n",
      "\n",
      "           0       0.93      0.79      0.85      2480\n",
      "           1       0.54      0.82      0.65       777\n",
      "\n",
      "    accuracy                           0.79      3257\n",
      "   macro avg       0.74      0.80      0.75      3257\n",
      "weighted avg       0.84      0.79      0.81      3257\n",
      "\n",
      "pca n_comp=10, Score=  0.8035001535155051\n",
      "              precision    recall  f1-score   support\n",
      "\n",
      "           0       0.94      0.79      0.86      2480\n",
      "           1       0.56      0.84      0.67       777\n",
      "\n",
      "    accuracy                           0.80      3257\n",
      "   macro avg       0.75      0.82      0.77      3257\n",
      "weighted avg       0.85      0.80      0.81      3257\n",
      "\n",
      "pca n_comp=15, Score=  0.8041142155357691\n",
      "              precision    recall  f1-score   support\n",
      "\n",
      "           0       0.94      0.79      0.86      2480\n",
      "           1       0.56      0.83      0.67       777\n",
      "\n",
      "    accuracy                           0.80      3257\n",
      "   macro avg       0.75      0.81      0.77      3257\n",
      "weighted avg       0.85      0.80      0.82      3257\n",
      "\n",
      "pca n_comp=20, Score=  0.8087196806877495\n",
      "              precision    recall  f1-score   support\n",
      "\n",
      "           0       0.94      0.80      0.86      2480\n",
      "           1       0.57      0.84      0.68       777\n",
      "\n",
      "    accuracy                           0.81      3257\n",
      "   macro avg       0.75      0.82      0.77      3257\n",
      "weighted avg       0.85      0.81      0.82      3257\n",
      "\n",
      "pca n_comp=25, Score=  0.8065704636168253\n",
      "              precision    recall  f1-score   support\n",
      "\n",
      "           0       0.94      0.80      0.86      2480\n",
      "           1       0.56      0.83      0.67       777\n",
      "\n",
      "    accuracy                           0.81      3257\n",
      "   macro avg       0.75      0.81      0.77      3257\n",
      "weighted avg       0.85      0.81      0.82      3257\n",
      "\n",
      "pca n_comp=30, Score=  0.8087196806877495\n",
      "              precision    recall  f1-score   support\n",
      "\n",
      "           0       0.94      0.80      0.86      2480\n",
      "           1       0.57      0.83      0.68       777\n",
      "\n",
      "    accuracy                           0.81      3257\n",
      "   macro avg       0.75      0.82      0.77      3257\n",
      "weighted avg       0.85      0.81      0.82      3257\n",
      "\n",
      "pca n_comp=35, Score=  0.8133251458397298\n",
      "              precision    recall  f1-score   support\n",
      "\n",
      "           0       0.94      0.81      0.87      2480\n",
      "           1       0.58      0.83      0.68       777\n",
      "\n",
      "    accuracy                           0.81      3257\n",
      "   macro avg       0.76      0.82      0.77      3257\n",
      "weighted avg       0.85      0.81      0.82      3257\n",
      "\n",
      "pca n_comp=40, Score=  0.8176235799815781\n",
      "              precision    recall  f1-score   support\n",
      "\n",
      "           0       0.94      0.81      0.87      2480\n",
      "           1       0.58      0.83      0.69       777\n",
      "\n",
      "    accuracy                           0.82      3257\n",
      "   macro avg       0.76      0.82      0.78      3257\n",
      "weighted avg       0.85      0.82      0.83      3257\n",
      "\n",
      "pca n_comp=45, Score=  0.817009517961314\n",
      "              precision    recall  f1-score   support\n",
      "\n",
      "           0       0.94      0.81      0.87      2480\n",
      "           1       0.58      0.83      0.68       777\n",
      "\n",
      "    accuracy                           0.82      3257\n",
      "   macro avg       0.76      0.82      0.78      3257\n",
      "weighted avg       0.85      0.82      0.83      3257\n",
      "\n",
      "pca n_comp=50, Score=  0.8182376420018422\n",
      "              precision    recall  f1-score   support\n",
      "\n",
      "           0       0.94      0.81      0.87      2480\n",
      "           1       0.58      0.83      0.69       777\n",
      "\n",
      "    accuracy                           0.82      3257\n",
      "   macro avg       0.76      0.82      0.78      3257\n",
      "weighted avg       0.85      0.82      0.83      3257\n",
      "\n",
      "pca n_comp=54, Score=  0.8182376420018422\n",
      "              precision    recall  f1-score   support\n",
      "\n",
      "           0       0.94      0.81      0.87      2480\n",
      "           1       0.58      0.83      0.69       777\n",
      "\n",
      "    accuracy                           0.82      3257\n",
      "   macro avg       0.76      0.82      0.78      3257\n",
      "weighted avg       0.85      0.82      0.83      3257\n",
      "\n"
     ]
    }
   ],
   "source": [
    "from sklearn.decomposition import PCA\n",
    "n_components = [5,10,15,20,25,30,35,40,45,50,54]\n",
    "\n",
    "for i in n_components:\n",
    "    pca = PCA(n_components=i)\n",
    "    xtrain_pca = pca.fit_transform(x_resampled)\n",
    "    xval_pca = pca.transform(x_val_transformed)\n",
    "    \n",
    "    clf_gbm = GradientBoostingClassifier()\n",
    "    clf_gbm.fit(xtrain_pca, y_resampled)\n",
    "    print('pca n_comp='+str(i)+', Score= ',clf_gbm.score(xval_pca,y_val))\n",
    "    print(classification_report(y_val, clf_gbm.predict(xval_pca)))"
   ]
  }
 ],
 "metadata": {
  "kernelspec": {
   "display_name": "Python 3",
   "language": "python",
   "name": "python3"
  },
  "language_info": {
   "codemirror_mode": {
    "name": "ipython",
    "version": 3
   },
   "file_extension": ".py",
   "mimetype": "text/x-python",
   "name": "python",
   "nbconvert_exporter": "python",
   "pygments_lexer": "ipython3",
   "version": "3.8.8"
  }
 },
 "nbformat": 4,
 "nbformat_minor": 5
}
