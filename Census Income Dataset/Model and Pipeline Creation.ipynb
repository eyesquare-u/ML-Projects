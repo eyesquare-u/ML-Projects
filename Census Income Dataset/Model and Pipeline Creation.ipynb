{
 "cells": [
  {
   "cell_type": "code",
   "execution_count": 25,
   "id": "relevant-horizontal",
   "metadata": {},
   "outputs": [],
   "source": [
    "import pandas as pd\n",
    "import numpy as np\n",
    "import matplotlib.pyplot as plt\n",
    "import seaborn as sns\n",
    "\n",
    "%matplotlib inline\n",
    "import warnings\n",
    "warnings.filterwarnings('ignore')\n",
    "\n",
    "from sklearn.preprocessing import LabelEncoder\n",
    "from sklearn.ensemble import GradientBoostingClassifier\n",
    "\n",
    "from sklearn.metrics import roc_curve, roc_auc_score\n",
    "from sklearn.metrics import classification_report\n",
    "from sklearn.metrics import confusion_matrix\n",
    "\n",
    "from sklearn.preprocessing import OneHotEncoder\n",
    "from sklearn.preprocessing import RobustScaler\n",
    "from sklearn.compose import ColumnTransformer\n",
    "\n",
    "from sklearn.decomposition import PCA\n",
    "from imblearn.combine import SMOTETomek\n",
    "\n",
    "from sklearn.pipeline import Pipeline"
   ]
  },
  {
   "cell_type": "code",
   "execution_count": 26,
   "id": "hydraulic-reference",
   "metadata": {},
   "outputs": [],
   "source": [
    "features_num = ['age', 'fnlwgt', 'education_num', 'capital_gain', 'capital_loss', 'hours_per_week']\n",
    "features_cat = ['workclass', 'education', 'marital_status', 'occupation', 'relationship', 'race', 'sex']\n",
    "\n",
    "column_arr = ['age', 'workclass', 'fnlwgt', 'education', 'education_num',\n",
    "           'marital_status', 'occupation', 'relationship', 'race', 'sex',\n",
    "           'capital_gain', 'capital_loss', 'hours_per_week', 'native_country', 'income']"
   ]
  },
  {
   "cell_type": "code",
   "execution_count": 27,
   "id": "aggressive-hundred",
   "metadata": {},
   "outputs": [],
   "source": [
    "def modify_columns(df_copycat):\n",
    "    \n",
    "    workclass_dict = {'Without-pay': 'NP_NW', 'Never-worked': 'NP_NW'}\n",
    "    education_dict = {'11th': 'Below_HS', '9th': 'Below_HS', '7th-8th': 'Below_HS', '5th-6th': 'Below_HS', \n",
    "                      '10th': 'Below_HS', '1st-4th': 'Below_HS', 'Preschool': 'Below_HS', '12th': 'Below_HS'}\n",
    "    marital_status_dict = {'Divorced': 'DSW', 'Separated': 'DSW', 'Widowed': 'DSW', 'Married-spouse-absent': 'MSA_AF', 'Married-AF-spouse': 'MSA_AF'}\n",
    "\n",
    "    df_copycat['occupation'] = df_copycat['occupation'].apply(lambda x: 'Other-service' if x is '?' else x)\n",
    "    df_copycat['marital_status'] = df_copycat['marital_status'].apply(lambda x: marital_status_dict[x] if x in marital_status_dict else x)\n",
    "    df_copycat['education'] = df_copycat['education'].apply(lambda x: education_dict[x] if x in education_dict else x)\n",
    "    df_copycat['workclass'] = df_copycat['workclass'].apply(lambda x: workclass_dict[x] if x in workclass_dict else x)\n",
    "    \n",
    "    df_copycat = df_copycat.drop(columns=['native_country'])\n",
    "    le = LabelEncoder()\n",
    "    df_copycat['income'] = le.fit_transform(df_copycat['income'])\n",
    "    \n",
    "    return df_copycat"
   ]
  },
  {
   "cell_type": "code",
   "execution_count": 28,
   "id": "found-myanmar",
   "metadata": {},
   "outputs": [],
   "source": [
    "def import_csv(path):\n",
    "    return pd.read_csv(path, names=column_arr, skipinitialspace=True) "
   ]
  },
  {
   "cell_type": "code",
   "execution_count": 29,
   "id": "regular-joshua",
   "metadata": {},
   "outputs": [
    {
     "data": {
      "text/plain": [
       "(32561, 13)"
      ]
     },
     "execution_count": 29,
     "metadata": {},
     "output_type": "execute_result"
    }
   ],
   "source": [
    "df_train = import_csv('./Census Income/adult.data.csv')\n",
    "df_train = modify_columns(df_train)\n",
    "X_train = df_train.drop(columns=['income'])\n",
    "y_train = df_train['income']\n",
    "X_train.shape"
   ]
  },
  {
   "cell_type": "code",
   "execution_count": 30,
   "id": "owned-marking",
   "metadata": {},
   "outputs": [
    {
     "data": {
      "text/plain": [
       "(16281, 13)"
      ]
     },
     "execution_count": 30,
     "metadata": {},
     "output_type": "execute_result"
    }
   ],
   "source": [
    "df_test = import_csv('./Census Income/adult.test.csv')\n",
    "df_test = modify_columns(df_test)\n",
    "X_test = df_test.drop(columns=['income'])\n",
    "y_test = df_test['income']\n",
    "X_test.shape"
   ]
  },
  {
   "cell_type": "code",
   "execution_count": 31,
   "id": "conscious-sauce",
   "metadata": {},
   "outputs": [
    {
     "data": {
      "text/html": [
       "<div>\n",
       "<style scoped>\n",
       "    .dataframe tbody tr th:only-of-type {\n",
       "        vertical-align: middle;\n",
       "    }\n",
       "\n",
       "    .dataframe tbody tr th {\n",
       "        vertical-align: top;\n",
       "    }\n",
       "\n",
       "    .dataframe thead th {\n",
       "        text-align: right;\n",
       "    }\n",
       "</style>\n",
       "<table border=\"1\" class=\"dataframe\">\n",
       "  <thead>\n",
       "    <tr style=\"text-align: right;\">\n",
       "      <th></th>\n",
       "      <th>age</th>\n",
       "      <th>workclass</th>\n",
       "      <th>fnlwgt</th>\n",
       "      <th>education</th>\n",
       "      <th>education_num</th>\n",
       "      <th>marital_status</th>\n",
       "      <th>occupation</th>\n",
       "      <th>relationship</th>\n",
       "      <th>race</th>\n",
       "      <th>sex</th>\n",
       "      <th>capital_gain</th>\n",
       "      <th>capital_loss</th>\n",
       "      <th>hours_per_week</th>\n",
       "    </tr>\n",
       "  </thead>\n",
       "  <tbody>\n",
       "    <tr>\n",
       "      <th>13633</th>\n",
       "      <td>29</td>\n",
       "      <td>Private</td>\n",
       "      <td>189346</td>\n",
       "      <td>HS-grad</td>\n",
       "      <td>9</td>\n",
       "      <td>Never-married</td>\n",
       "      <td>Transport-moving</td>\n",
       "      <td>Unmarried</td>\n",
       "      <td>White</td>\n",
       "      <td>Male</td>\n",
       "      <td>0</td>\n",
       "      <td>0</td>\n",
       "      <td>40</td>\n",
       "    </tr>\n",
       "    <tr>\n",
       "      <th>1921</th>\n",
       "      <td>31</td>\n",
       "      <td>Private</td>\n",
       "      <td>137076</td>\n",
       "      <td>Bachelors</td>\n",
       "      <td>13</td>\n",
       "      <td>Married-civ-spouse</td>\n",
       "      <td>Protective-serv</td>\n",
       "      <td>Husband</td>\n",
       "      <td>White</td>\n",
       "      <td>Male</td>\n",
       "      <td>0</td>\n",
       "      <td>0</td>\n",
       "      <td>40</td>\n",
       "    </tr>\n",
       "    <tr>\n",
       "      <th>12140</th>\n",
       "      <td>52</td>\n",
       "      <td>Federal-gov</td>\n",
       "      <td>35546</td>\n",
       "      <td>HS-grad</td>\n",
       "      <td>9</td>\n",
       "      <td>Married-civ-spouse</td>\n",
       "      <td>Tech-support</td>\n",
       "      <td>Husband</td>\n",
       "      <td>White</td>\n",
       "      <td>Male</td>\n",
       "      <td>0</td>\n",
       "      <td>0</td>\n",
       "      <td>40</td>\n",
       "    </tr>\n",
       "    <tr>\n",
       "      <th>9933</th>\n",
       "      <td>54</td>\n",
       "      <td>Local-gov</td>\n",
       "      <td>116428</td>\n",
       "      <td>Below_HS</td>\n",
       "      <td>6</td>\n",
       "      <td>Married-civ-spouse</td>\n",
       "      <td>Exec-managerial</td>\n",
       "      <td>Husband</td>\n",
       "      <td>White</td>\n",
       "      <td>Male</td>\n",
       "      <td>0</td>\n",
       "      <td>0</td>\n",
       "      <td>40</td>\n",
       "    </tr>\n",
       "    <tr>\n",
       "      <th>7745</th>\n",
       "      <td>41</td>\n",
       "      <td>Private</td>\n",
       "      <td>177054</td>\n",
       "      <td>HS-grad</td>\n",
       "      <td>9</td>\n",
       "      <td>DSW</td>\n",
       "      <td>Machine-op-inspct</td>\n",
       "      <td>Unmarried</td>\n",
       "      <td>White</td>\n",
       "      <td>Male</td>\n",
       "      <td>0</td>\n",
       "      <td>0</td>\n",
       "      <td>40</td>\n",
       "    </tr>\n",
       "    <tr>\n",
       "      <th>13499</th>\n",
       "      <td>60</td>\n",
       "      <td>Private</td>\n",
       "      <td>193864</td>\n",
       "      <td>HS-grad</td>\n",
       "      <td>9</td>\n",
       "      <td>DSW</td>\n",
       "      <td>Craft-repair</td>\n",
       "      <td>Not-in-family</td>\n",
       "      <td>White</td>\n",
       "      <td>Female</td>\n",
       "      <td>0</td>\n",
       "      <td>0</td>\n",
       "      <td>40</td>\n",
       "    </tr>\n",
       "    <tr>\n",
       "      <th>5046</th>\n",
       "      <td>19</td>\n",
       "      <td>?</td>\n",
       "      <td>171868</td>\n",
       "      <td>HS-grad</td>\n",
       "      <td>9</td>\n",
       "      <td>Never-married</td>\n",
       "      <td>Other-service</td>\n",
       "      <td>Own-child</td>\n",
       "      <td>Black</td>\n",
       "      <td>Male</td>\n",
       "      <td>0</td>\n",
       "      <td>0</td>\n",
       "      <td>20</td>\n",
       "    </tr>\n",
       "    <tr>\n",
       "      <th>10062</th>\n",
       "      <td>56</td>\n",
       "      <td>Local-gov</td>\n",
       "      <td>238405</td>\n",
       "      <td>HS-grad</td>\n",
       "      <td>9</td>\n",
       "      <td>DSW</td>\n",
       "      <td>Adm-clerical</td>\n",
       "      <td>Not-in-family</td>\n",
       "      <td>White</td>\n",
       "      <td>Female</td>\n",
       "      <td>0</td>\n",
       "      <td>0</td>\n",
       "      <td>40</td>\n",
       "    </tr>\n",
       "    <tr>\n",
       "      <th>8612</th>\n",
       "      <td>33</td>\n",
       "      <td>Private</td>\n",
       "      <td>174215</td>\n",
       "      <td>Bachelors</td>\n",
       "      <td>13</td>\n",
       "      <td>Never-married</td>\n",
       "      <td>Exec-managerial</td>\n",
       "      <td>Not-in-family</td>\n",
       "      <td>White</td>\n",
       "      <td>Female</td>\n",
       "      <td>0</td>\n",
       "      <td>0</td>\n",
       "      <td>55</td>\n",
       "    </tr>\n",
       "    <tr>\n",
       "      <th>14440</th>\n",
       "      <td>23</td>\n",
       "      <td>Private</td>\n",
       "      <td>37514</td>\n",
       "      <td>Some-college</td>\n",
       "      <td>10</td>\n",
       "      <td>Never-married</td>\n",
       "      <td>Sales</td>\n",
       "      <td>Not-in-family</td>\n",
       "      <td>White</td>\n",
       "      <td>Male</td>\n",
       "      <td>0</td>\n",
       "      <td>0</td>\n",
       "      <td>55</td>\n",
       "    </tr>\n",
       "  </tbody>\n",
       "</table>\n",
       "</div>"
      ],
      "text/plain": [
       "       age    workclass  fnlwgt     education  education_num  \\\n",
       "13633   29      Private  189346       HS-grad              9   \n",
       "1921    31      Private  137076     Bachelors             13   \n",
       "12140   52  Federal-gov   35546       HS-grad              9   \n",
       "9933    54    Local-gov  116428      Below_HS              6   \n",
       "7745    41      Private  177054       HS-grad              9   \n",
       "13499   60      Private  193864       HS-grad              9   \n",
       "5046    19            ?  171868       HS-grad              9   \n",
       "10062   56    Local-gov  238405       HS-grad              9   \n",
       "8612    33      Private  174215     Bachelors             13   \n",
       "14440   23      Private   37514  Some-college             10   \n",
       "\n",
       "           marital_status         occupation   relationship   race     sex  \\\n",
       "13633       Never-married   Transport-moving      Unmarried  White    Male   \n",
       "1921   Married-civ-spouse    Protective-serv        Husband  White    Male   \n",
       "12140  Married-civ-spouse       Tech-support        Husband  White    Male   \n",
       "9933   Married-civ-spouse    Exec-managerial        Husband  White    Male   \n",
       "7745                  DSW  Machine-op-inspct      Unmarried  White    Male   \n",
       "13499                 DSW       Craft-repair  Not-in-family  White  Female   \n",
       "5046        Never-married      Other-service      Own-child  Black    Male   \n",
       "10062                 DSW       Adm-clerical  Not-in-family  White  Female   \n",
       "8612        Never-married    Exec-managerial  Not-in-family  White  Female   \n",
       "14440       Never-married              Sales  Not-in-family  White    Male   \n",
       "\n",
       "       capital_gain  capital_loss  hours_per_week  \n",
       "13633             0             0              40  \n",
       "1921              0             0              40  \n",
       "12140             0             0              40  \n",
       "9933              0             0              40  \n",
       "7745              0             0              40  \n",
       "13499             0             0              40  \n",
       "5046              0             0              20  \n",
       "10062             0             0              40  \n",
       "8612              0             0              55  \n",
       "14440             0             0              55  "
      ]
     },
     "execution_count": 31,
     "metadata": {},
     "output_type": "execute_result"
    }
   ],
   "source": [
    "X_test.sample(10, random_state=42)"
   ]
  },
  {
   "cell_type": "markdown",
   "id": "equipped-browser",
   "metadata": {},
   "source": [
    "### Resampling data using Smote"
   ]
  },
  {
   "cell_type": "code",
   "execution_count": 8,
   "id": "efficient-reason",
   "metadata": {},
   "outputs": [
    {
     "data": {
      "text/plain": [
       "'\\nsmote = SMOTETomek()\\nX_resampled, y_resampled = smote.fit_resample(transformer.fit_transform(X_train), y_train)\\nx_pca = pca.fit_transform(X_resampled)\\n'"
      ]
     },
     "execution_count": 8,
     "metadata": {},
     "output_type": "execute_result"
    }
   ],
   "source": [
    "'''\n",
    "smote = SMOTETomek()\n",
    "X_resampled, y_resampled = smote.fit_resample(transformer.fit_transform(X_train), y_train)\n",
    "x_pca = pca.fit_transform(X_resampled)\n",
    "'''"
   ]
  },
  {
   "cell_type": "code",
   "execution_count": 9,
   "id": "through-protest",
   "metadata": {},
   "outputs": [
    {
     "data": {
      "text/plain": [
       "'\\nxgb = XGBClassifier()\\nxgb.fit(x_pca, y_resampled)\\nxtest_pca = pca.fit_transform(transformer.transform(X_test))\\nxtest_pca = pca.fit_transform(transformer.transform(X_test))\\n\\nxgb.score(x, y_test)\\n'"
      ]
     },
     "execution_count": 9,
     "metadata": {},
     "output_type": "execute_result"
    }
   ],
   "source": [
    "'''\n",
    "xgb = XGBClassifier()\n",
    "xgb.fit(x_pca, y_resampled)\n",
    "xtest_pca = pca.fit_transform(transformer.transform(X_test))\n",
    "xtest_pca = pca.fit_transform(transformer.transform(X_test))\n",
    "\n",
    "xgb.score(x, y_test)\n",
    "'''"
   ]
  },
  {
   "cell_type": "markdown",
   "id": "pending-sunset",
   "metadata": {},
   "source": [
    "## Model Building"
   ]
  },
  {
   "cell_type": "markdown",
   "id": "seventh-trinity",
   "metadata": {},
   "source": [
    "### Pipeline 1: Random Forest"
   ]
  },
  {
   "cell_type": "code",
   "execution_count": 62,
   "id": "mighty-reynolds",
   "metadata": {},
   "outputs": [],
   "source": [
    "transformer = ColumnTransformer(transformers=[('OneHotEncoder', OneHotEncoder(drop='first'), features_cat), \n",
    "                                              ('RobustScaler', RobustScaler(), features_num)], \n",
    "                                               remainder='passthrough', sparse_threshold=0)\n",
    "\n",
    "pca = PCA(n_components=30)\n",
    "\n",
    "from sklearn.ensemble import RandomForestClassifier\n",
    "clf_rnd = RandomForestClassifier(n_estimators=100, class_weight='balanced')"
   ]
  },
  {
   "cell_type": "code",
   "execution_count": 63,
   "id": "reduced-processing",
   "metadata": {},
   "outputs": [],
   "source": [
    "#pipe = Pipeline([('preprocessor', transformer), ('Data-Balancing', smote), ('PCA', pca), ('Random Forest Clf', clf_rnd)])\n",
    "pipe_rfc = Pipeline([('preprocessor', transformer), ('PCA', pca), ('Random Forest Clf', clf_rnd)])"
   ]
  },
  {
   "cell_type": "code",
   "execution_count": 64,
   "id": "appointed-communist",
   "metadata": {},
   "outputs": [
    {
     "data": {
      "text/plain": [
       "Pipeline(steps=[('preprocessor',\n",
       "                 ColumnTransformer(remainder='passthrough', sparse_threshold=0,\n",
       "                                   transformers=[('OneHotEncoder',\n",
       "                                                  OneHotEncoder(drop='first'),\n",
       "                                                  ['workclass', 'education',\n",
       "                                                   'marital_status',\n",
       "                                                   'occupation', 'relationship',\n",
       "                                                   'race', 'sex']),\n",
       "                                                 ('RobustScaler',\n",
       "                                                  RobustScaler(),\n",
       "                                                  ['age', 'fnlwgt',\n",
       "                                                   'education_num',\n",
       "                                                   'capital_gain',\n",
       "                                                   'capital_loss',\n",
       "                                                   'hours_per_week'])])),\n",
       "                ('PCA', PCA(n_components=30)),\n",
       "                ('Random Forest Clf',\n",
       "                 RandomForestClassifier(class_weight='balanced'))])"
      ]
     },
     "execution_count": 64,
     "metadata": {},
     "output_type": "execute_result"
    }
   ],
   "source": [
    "pipe_rfc.fit(X_train,y_train)"
   ]
  },
  {
   "cell_type": "code",
   "execution_count": 65,
   "id": "abstract-width",
   "metadata": {},
   "outputs": [],
   "source": [
    "y_pred = pipe_rfc.predict(X_test)\n",
    "y_pred_proba = pipe_rfc.predict_proba(X_test)"
   ]
  },
  {
   "cell_type": "code",
   "execution_count": 66,
   "id": "purple-course",
   "metadata": {},
   "outputs": [
    {
     "data": {
      "text/plain": [
       "0.8528960137583687"
      ]
     },
     "execution_count": 66,
     "metadata": {},
     "output_type": "execute_result"
    }
   ],
   "source": [
    "pipe_rfc.score(X_test, y_test)"
   ]
  },
  {
   "cell_type": "code",
   "execution_count": 67,
   "id": "indian-lodging",
   "metadata": {},
   "outputs": [
    {
     "data": {
      "text/plain": [
       "0.899322122462703"
      ]
     },
     "execution_count": 67,
     "metadata": {},
     "output_type": "execute_result"
    },
    {
     "data": {
      "image/png": "[encoded data removed]",
      "text/plain": [
       "<Figure size 432x288 with 1 Axes>"
      ]
     },
     "metadata": {},
     "output_type": "display_data"
    }
   ],
   "source": [
    "sns.set_style(style='darkgrid')\n",
    "fpr, tpr, threshold = roc_curve(y_test, pipe_rfc.predict_proba(X_test)[:,1])\n",
    "\n",
    "plt.plot([0,1],[0,1], linestyle = '--')\n",
    "plt.plot(fpr, tpr)\n",
    "roc_auc_score(y_test, pipe_rfc.predict_proba(X_test)[:,1])"
   ]
  },
  {
   "cell_type": "code",
   "execution_count": 68,
   "id": "verified-festival",
   "metadata": {},
   "outputs": [
    {
     "name": "stdout",
     "output_type": "stream",
     "text": [
      "              precision    recall  f1-score   support\n",
      "\n",
      "           0       0.88      0.94      0.91     12435\n",
      "           1       0.74      0.58      0.65      3846\n",
      "\n",
      "    accuracy                           0.85     16281\n",
      "   macro avg       0.81      0.76      0.78     16281\n",
      "weighted avg       0.85      0.85      0.85     16281\n",
      "\n"
     ]
    }
   ],
   "source": [
    "print(classification_report(y_test, pipe_rfc.predict(X_test)))"
   ]
  },
  {
   "cell_type": "code",
   "execution_count": 69,
   "id": "cutting-silence",
   "metadata": {},
   "outputs": [
    {
     "data": {
      "text/plain": [
       "<AxesSubplot:>"
      ]
     },
     "execution_count": 69,
     "metadata": {},
     "output_type": "execute_result"
    },
    {
     "data": {
      "image/png": "[encoded data removed]",
      "text/plain": [
       "<Figure size 432x288 with 2 Axes>"
      ]
     },
     "metadata": {},
     "output_type": "display_data"
    }
   ],
   "source": [
    "cm = confusion_matrix(y_test, pipe_rfc.predict(X_test))\n",
    "sns.heatmap(cm, annot=True, fmt='.5g')"
   ]
  },
  {
   "cell_type": "markdown",
   "id": "grave-composite",
   "metadata": {},
   "source": [
    "### Pipeline 2: XGBoost"
   ]
  },
  {
   "cell_type": "code",
   "execution_count": 55,
   "id": "complimentary-circular",
   "metadata": {},
   "outputs": [
    {
     "data": {
      "text/plain": [
       "0    24720\n",
       "1     7841\n",
       "Name: income, dtype: int64"
      ]
     },
     "execution_count": 55,
     "metadata": {},
     "output_type": "execute_result"
    }
   ],
   "source": [
    "df_train['income'].value_counts()"
   ]
  },
  {
   "cell_type": "code",
   "execution_count": 82,
   "id": "patient-ballet",
   "metadata": {},
   "outputs": [],
   "source": [
    "transformer = ColumnTransformer(transformers=[('OneHotEncoder', OneHotEncoder(drop='first'), features_cat), \n",
    "                                              ('RobustScaler', RobustScaler(), features_num)], \n",
    "                                               remainder='passthrough', sparse_threshold=0)\n",
    "\n",
    "pca = PCA(n_components=30)\n",
    "\n",
    "from xgboost import XGBClassifier\n",
    "#negative class refers to the majority class (class 0) and the positive class refers to the minority class (class 1)\n",
    "clf_xgb = XGBClassifier(scale_pos_weight=3.15) #scale_pos_weight = total_negative_examples / total_positive_examples here=======scale_pos_weight=3.15\n",
    "\n",
    "pipe_xgb= Pipeline([('preprocessor', transformer), ('PCA', pca), ('XGBoost Classifier', clf_xgb)])"
   ]
  },
  {
   "cell_type": "code",
   "execution_count": 83,
   "id": "secure-stanley",
   "metadata": {},
   "outputs": [
    {
     "name": "stdout",
     "output_type": "stream",
     "text": [
      "[17:49:25] WARNING: C:/Users/Administrator/workspace/xgboost-win64_release_1.4.0/src/learner.cc:1095: Starting in XGBoost 1.3.0, the default evaluation metric used with the objective 'binary:logistic' was changed from 'error' to 'logloss'. Explicitly set eval_metric if you'd like to restore the old behavior.\n"
     ]
    },
    {
     "data": {
      "text/plain": [
       "Pipeline(steps=[('preprocessor',\n",
       "                 ColumnTransformer(remainder='passthrough', sparse_threshold=0,\n",
       "                                   transformers=[('OneHotEncoder',\n",
       "                                                  OneHotEncoder(drop='first'),\n",
       "                                                  ['workclass', 'education',\n",
       "                                                   'marital_status',\n",
       "                                                   'occupation', 'relationship',\n",
       "                                                   'race', 'sex']),\n",
       "                                                 ('RobustScaler',\n",
       "                                                  RobustScaler(),\n",
       "                                                  ['age', 'fnlwgt',\n",
       "                                                   'education_num',\n",
       "                                                   'capital_gain',\n",
       "                                                   'capital_loss',\n",
       "                                                   'hours_per_week'])])...\n",
       "                               colsample_bytree=1, gamma=0, gpu_id=-1,\n",
       "                               importance_type='gain',\n",
       "                               interaction_constraints='',\n",
       "                               learning_rate=0.300000012, max_delta_step=0,\n",
       "                               max_depth=6, min_child_weight=1, missing=nan,\n",
       "                               monotone_constraints='()', n_estimators=100,\n",
       "                               n_jobs=12, num_parallel_tree=1, random_state=0,\n",
       "                               reg_alpha=0, reg_lambda=1, scale_pos_weight=3.15,\n",
       "                               subsample=1, tree_method='exact',\n",
       "                               validate_parameters=1, verbosity=None))])"
      ]
     },
     "execution_count": 83,
     "metadata": {},
     "output_type": "execute_result"
    }
   ],
   "source": [
    "pipe_xgb.fit(X_train,y_train)"
   ]
  },
  {
   "cell_type": "code",
   "execution_count": 84,
   "id": "behind-check",
   "metadata": {},
   "outputs": [
    {
     "data": {
      "text/plain": [
       "0.8382163257785148"
      ]
     },
     "execution_count": 84,
     "metadata": {},
     "output_type": "execute_result"
    }
   ],
   "source": [
    "y_pred = pipe_xgb.predict(X_test)\n",
    "pipe_xgb.score(X_test, y_test)"
   ]
  },
  {
   "cell_type": "code",
   "execution_count": 85,
   "id": "hazardous-fighter",
   "metadata": {},
   "outputs": [
    {
     "name": "stdout",
     "output_type": "stream",
     "text": [
      "              precision    recall  f1-score   support\n",
      "\n",
      "           0       0.94      0.85      0.89     12435\n",
      "           1       0.62      0.81      0.70      3846\n",
      "\n",
      "    accuracy                           0.84     16281\n",
      "   macro avg       0.78      0.83      0.80     16281\n",
      "weighted avg       0.86      0.84      0.84     16281\n",
      "\n"
     ]
    }
   ],
   "source": [
    "print(classification_report(y_test, pipe_xgb.predict(X_test)))"
   ]
  },
  {
   "cell_type": "code",
   "execution_count": 86,
   "id": "lesbian-jimmy",
   "metadata": {},
   "outputs": [
    {
     "data": {
      "text/plain": [
       "0.9205935241832673"
      ]
     },
     "execution_count": 86,
     "metadata": {},
     "output_type": "execute_result"
    },
    {
     "data": {
      "image/png": "[encoded data removed]",
      "text/plain": [
       "<Figure size 432x288 with 1 Axes>"
      ]
     },
     "metadata": {},
     "output_type": "display_data"
    }
   ],
   "source": [
    "sns.set_style(style='darkgrid')\n",
    "fpr, tpr, threshold = roc_curve(y_test, pipe_xgb.predict_proba(X_test)[:,1])\n",
    "\n",
    "plt.plot([0,1],[0,1], linestyle = '--')\n",
    "plt.plot(fpr, tpr)\n",
    "roc_auc_score(y_test, pipe_xgb.predict_proba(X_test)[:,1])"
   ]
  },
  {
   "cell_type": "code",
   "execution_count": 87,
   "id": "aerial-witch",
   "metadata": {},
   "outputs": [
    {
     "data": {
      "text/plain": [
       "<AxesSubplot:>"
      ]
     },
     "execution_count": 87,
     "metadata": {},
     "output_type": "execute_result"
    },
    {
     "data": {
      "image/png": "[encoded data removed]",
      "text/plain": [
       "<Figure size 432x288 with 2 Axes>"
      ]
     },
     "metadata": {},
     "output_type": "display_data"
    }
   ],
   "source": [
    "cm = confusion_matrix(y_test, pipe_xgb.predict(X_test))\n",
    "sns.heatmap(cm, annot=True, fmt='.5g')"
   ]
  },
  {
   "cell_type": "markdown",
   "id": "competitive-titanium",
   "metadata": {},
   "source": [
    "### Pipeline 3: Gradinet Boost"
   ]
  },
  {
   "cell_type": "code",
   "execution_count": 89,
   "id": "useful-advancement",
   "metadata": {},
   "outputs": [],
   "source": [
    "transformer = ColumnTransformer(transformers=[('OneHotEncoder', OneHotEncoder(drop='first'), features_cat), \n",
    "                                              ('RobustScaler', RobustScaler(), features_num)], \n",
    "                                               remainder='passthrough', sparse_threshold=0)\n",
    "\n",
    "pca = PCA(n_components=30)\n",
    "\n",
    "from sklearn.ensemble import GradientBoostingClassifier\n",
    "clf_gbm = GradientBoostingClassifier()\n",
    "\n",
    "pipe_gbm= Pipeline([('preprocessor', transformer), ('PCA', pca), ('GBM Classifier', clf_gbm)])"
   ]
  },
  {
   "cell_type": "code",
   "execution_count": 90,
   "id": "caring-public",
   "metadata": {},
   "outputs": [
    {
     "data": {
      "text/plain": [
       "0.8667158036975616"
      ]
     },
     "execution_count": 90,
     "metadata": {},
     "output_type": "execute_result"
    }
   ],
   "source": [
    "pipe_gbm.fit(X_train,y_train)\n",
    "\n",
    "y_pred = pipe_gbm.predict(X_test)\n",
    "pipe_gbm.score(X_test, y_test)"
   ]
  },
  {
   "cell_type": "code",
   "execution_count": 91,
   "id": "imposed-progressive",
   "metadata": {},
   "outputs": [
    {
     "name": "stdout",
     "output_type": "stream",
     "text": [
      "              precision    recall  f1-score   support\n",
      "\n",
      "           0       0.88      0.95      0.92     12435\n",
      "           1       0.79      0.60      0.68      3846\n",
      "\n",
      "    accuracy                           0.87     16281\n",
      "   macro avg       0.83      0.77      0.80     16281\n",
      "weighted avg       0.86      0.87      0.86     16281\n",
      "\n"
     ]
    }
   ],
   "source": [
    "print(classification_report(y_test, pipe_gbm.predict(X_test)))"
   ]
  },
  {
   "cell_type": "code",
   "execution_count": 92,
   "id": "outside-fellowship",
   "metadata": {},
   "outputs": [
    {
     "data": {
      "text/plain": [
       "0.9167282662355951"
      ]
     },
     "execution_count": 92,
     "metadata": {},
     "output_type": "execute_result"
    },
    {
     "data": {
      "image/png": "[encoded data removed]",
      "text/plain": [
       "<Figure size 432x288 with 1 Axes>"
      ]
     },
     "metadata": {},
     "output_type": "display_data"
    }
   ],
   "source": [
    "sns.set_style(style='darkgrid')\n",
    "fpr, tpr, threshold = roc_curve(y_test, pipe_gbm.predict_proba(X_test)[:,1])\n",
    "\n",
    "plt.plot([0,1],[0,1], linestyle = '--')\n",
    "plt.plot(fpr, tpr)\n",
    "roc_auc_score(y_test, pipe_gbm.predict_proba(X_test)[:,1])"
   ]
  },
  {
   "cell_type": "code",
   "execution_count": 93,
   "id": "personal-survivor",
   "metadata": {},
   "outputs": [
    {
     "data": {
      "text/plain": [
       "<AxesSubplot:>"
      ]
     },
     "execution_count": 93,
     "metadata": {},
     "output_type": "execute_result"
    },
    {
     "data": {
      "image/png": "[encoded data removed]",
      "text/plain": [
       "<Figure size 432x288 with 2 Axes>"
      ]
     },
     "metadata": {},
     "output_type": "display_data"
    }
   ],
   "source": [
    "cm = confusion_matrix(y_test, pipe_gbm.predict(X_test))\n",
    "sns.heatmap(cm, annot=True, fmt='.5g')"
   ]
  },
  {
   "cell_type": "markdown",
   "id": "fitting-diagram",
   "metadata": {},
   "source": [
    "## Using XGBoost to export test results"
   ]
  },
  {
   "cell_type": "code",
   "execution_count": 95,
   "id": "frequent-bones",
   "metadata": {},
   "outputs": [
    {
     "name": "stdout",
     "output_type": "stream",
     "text": [
      "[17:59:33] WARNING: C:/Users/Administrator/workspace/xgboost-win64_release_1.4.0/src/learner.cc:1095: Starting in XGBoost 1.3.0, the default evaluation metric used with the objective 'binary:logistic' was changed from 'error' to 'logloss'. Explicitly set eval_metric if you'd like to restore the old behavior.\n"
     ]
    },
    {
     "data": {
      "text/plain": [
       "0.841041705054972"
      ]
     },
     "execution_count": 95,
     "metadata": {},
     "output_type": "execute_result"
    }
   ],
   "source": [
    "pipe_xgb.fit(X_train,y_train)\n",
    "y_pred = pipe_xgb.predict(X_test)\n",
    "pipe_xgb.score(X_test, y_test)"
   ]
  },
  {
   "cell_type": "code",
   "execution_count": 96,
   "id": "billion-cambodia",
   "metadata": {},
   "outputs": [
    {
     "name": "stdout",
     "output_type": "stream",
     "text": [
      "              precision    recall  f1-score   support\n",
      "\n",
      "           0       0.94      0.85      0.89     12435\n",
      "           1       0.62      0.82      0.71      3846\n",
      "\n",
      "    accuracy                           0.84     16281\n",
      "   macro avg       0.78      0.83      0.80     16281\n",
      "weighted avg       0.86      0.84      0.85     16281\n",
      "\n"
     ]
    }
   ],
   "source": [
    "print(classification_report(y_test, pipe_xgb.predict(X_test)))"
   ]
  },
  {
   "cell_type": "code",
   "execution_count": 97,
   "id": "eight-serve",
   "metadata": {},
   "outputs": [
    {
     "data": {
      "text/plain": [
       "0.9212518721898855"
      ]
     },
     "execution_count": 97,
     "metadata": {},
     "output_type": "execute_result"
    },
    {
     "data": {
      "image/png": "[encoded data removed]",
      "text/plain": [
       "<Figure size 432x288 with 1 Axes>"
      ]
     },
     "metadata": {},
     "output_type": "display_data"
    }
   ],
   "source": [
    "sns.set_style(style='darkgrid')\n",
    "fpr, tpr, threshold = roc_curve(y_test, pipe_xgb.predict_proba(X_test)[:,1])\n",
    "\n",
    "plt.plot([0,1],[0,1], linestyle = '--')\n",
    "plt.plot(fpr, tpr)\n",
    "roc_auc_score(y_test, pipe_xgb.predict_proba(X_test)[:,1])"
   ]
  },
  {
   "cell_type": "code",
   "execution_count": 98,
   "id": "martial-lecture",
   "metadata": {},
   "outputs": [
    {
     "data": {
      "text/plain": [
       "<AxesSubplot:>"
      ]
     },
     "execution_count": 98,
     "metadata": {},
     "output_type": "execute_result"
    },
    {
     "data": {
      "image/png": "[encoded data removed]",
      "text/plain": [
       "<Figure size 432x288 with 2 Axes>"
      ]
     },
     "metadata": {},
     "output_type": "display_data"
    }
   ],
   "source": [
    "cm = confusion_matrix(y_test, pipe_xgb.predict(X_test))\n",
    "sns.heatmap(cm, annot=True, fmt='.5g')"
   ]
  },
  {
   "cell_type": "code",
   "execution_count": 106,
   "id": "greatest-slide",
   "metadata": {},
   "outputs": [],
   "source": [
    "np.savetxt(\"predicted.csv\", y_pred, fmt='%d', delimiter=\",\")"
   ]
  },
  {
   "cell_type": "code",
   "execution_count": null,
   "id": "dying-knitting",
   "metadata": {},
   "outputs": [],
   "source": []
  }
 ],
 "metadata": {
  "kernelspec": {
   "display_name": "Python 3",
   "language": "python",
   "name": "python3"
  },
  "language_info": {
   "codemirror_mode": {
    "name": "ipython",
    "version": 3
   },
   "file_extension": ".py",
   "mimetype": "text/x-python",
   "name": "python",
   "nbconvert_exporter": "python",
   "pygments_lexer": "ipython3",
   "version": "3.8.8"
  }
 },
 "nbformat": 4,
 "nbformat_minor": 5
}
